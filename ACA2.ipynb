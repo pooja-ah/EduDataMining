{
  "nbformat": 4,
  "nbformat_minor": 0,
  "metadata": {
    "colab": {
      "name": "ACA2.ipynb",
      "provenance": [],
      "collapsed_sections": []
    },
    "kernelspec": {
      "name": "python3",
      "display_name": "Python 3"
    },
    "language_info": {
      "name": "python"
    }
  },
  "cells": [
    {
      "cell_type": "markdown",
      "metadata": {
        "id": "-xoo8Ot48g3X"
      },
      "source": [
        "# **Analysis Challenge Assignment 2** \n",
        "by **Kan Yamane, Wendy Weng and Pooja Addla.**\n",
        "\n",
        "In the following analysis, our team built a classifier to predict on or off-task behavior of K-4 students from 22 classrooms from 5 local charter schools based on the dataset `aca2_dataset_training.csv`\n",
        "\n",
        "The dataset consisted of:\n",
        "\n",
        "**1) General Variables:**\n",
        "*  UNIQUEID: The unique id for each observation\n",
        "*  SCHOOL: School name. Five schools in total.\n",
        "*  Class: Classroom name\n",
        "*  GRADE: Grade level, 0 = Kintergarden; 1 = First Grade;...\n",
        "*  STUDENTID: 1226 unique student in total.\n",
        "*  Gender: 0 = Female, 1 = Male\n",
        "\n",
        "**2) Observation Variables:**\n",
        "*  CODER: The coder who coded on/off task behavior.\n",
        "*  OBSNUM: The observation made on one student. 1 = The first observation on the student;... 32 = The 32nd observation on the student.\n",
        "*  Activity: Six different format of activities: (1) individual work, (2)small-group or partner work, (3) whole-group instruction at desks, (4) whole-group instruction while sitting on the carpet, (5) dancing, and (6) testing\n",
        "*  ONTASK: N = On task; Y = Off-task\n",
        "*  Total Time: Total time in seconds of how long each activity is. 0 means the instruction was given but the activity did not actually happen.\n",
        "\n",
        "**3) Class Session Variables**\n",
        "*  totalobs-forsession: total observations made per session\n",
        "*  NumACTIVITY: How many activities one session has taken?\n",
        "*  TRANSITIONS: How many times the activities have changed in one session, Transitions were noted every time the teacher paused instruction to change from one activity to another (e.g., transitioning from working on a math problem to listening to a short story).\n",
        "*  NumFORMATS: How many format of activity one session has taken?\n",
        "*  FORMATchanges: How many times the format of instruction have changed in one session\n",
        "*  Obsv/act: The average duration of an instructional activity (sec). The total duration of an observation session divided by the number of activities.\n",
        "*  Transition/Durations: Average times of transition per session. The total number of activity divided by the duration of an observation session (sec).\n",
        "\n",
        "\n"
      ]
    },
    {
      "cell_type": "code",
      "metadata": {
        "colab": {
          "base_uri": "https://localhost:8080/"
        },
        "id": "8k4ORuYdQCYp",
        "outputId": "df3bed7c-1d75-40a9-da7a-656744626e7f"
      },
      "source": [
        "# Upload and name the validation dataset 'original_va', and the training dataset 'original_tr'\n",
        "import pandas as pd\n",
        "original_va = pd.read_csv(\"aca2_dataset_validation.csv\")\n",
        "original_tr = pd.read_csv(\"aca2_dataset_training.csv\")\n",
        "\n",
        "print(original_va.info())\n",
        "print(original_tr.info())\n",
        "# We find that the data is relatively clean with no missing values"
      ],
      "execution_count": null,
      "outputs": [
        {
          "output_type": "stream",
          "name": "stdout",
          "text": [
            "<class 'pandas.core.frame.DataFrame'>\n",
            "RangeIndex: 5547 entries, 0 to 5546\n",
            "Data columns (total 18 columns):\n",
            " #   Column                 Non-Null Count  Dtype  \n",
            "---  ------                 --------------  -----  \n",
            " 0   UNIQUEID               5547 non-null   int64  \n",
            " 1   SCHOOL                 5547 non-null   object \n",
            " 2   Class                  5547 non-null   object \n",
            " 3   GRADE                  5547 non-null   int64  \n",
            " 4   CODER                  5547 non-null   object \n",
            " 5   STUDENTID              5547 non-null   int64  \n",
            " 6   Gender                 5547 non-null   int64  \n",
            " 7   OBSNUM                 5547 non-null   int64  \n",
            " 8   totalobs-forsession    5547 non-null   int64  \n",
            " 9   Activity               5547 non-null   object \n",
            " 10  ONTASK                 5547 non-null   object \n",
            " 11  TRANSITIONS            5547 non-null   int64  \n",
            " 12  NumACTIVITIES          5547 non-null   int64  \n",
            " 13  FORMATchanges          5547 non-null   int64  \n",
            " 14  NumFORMATS             5547 non-null   int64  \n",
            " 15  Obsv/act               5547 non-null   float64\n",
            " 16  Transitions/Durations  5547 non-null   float64\n",
            " 17  Total Time             5547 non-null   int64  \n",
            "dtypes: float64(2), int64(11), object(5)\n",
            "memory usage: 780.2+ KB\n",
            "None\n",
            "<class 'pandas.core.frame.DataFrame'>\n",
            "RangeIndex: 22184 entries, 0 to 22183\n",
            "Data columns (total 18 columns):\n",
            " #   Column                 Non-Null Count  Dtype  \n",
            "---  ------                 --------------  -----  \n",
            " 0   UNIQUEID               22184 non-null  int64  \n",
            " 1   SCHOOL                 22184 non-null  object \n",
            " 2   Class                  22184 non-null  object \n",
            " 3   GRADE                  22184 non-null  int64  \n",
            " 4   CODER                  22184 non-null  object \n",
            " 5   STUDENTID              22184 non-null  int64  \n",
            " 6   Gender                 22184 non-null  int64  \n",
            " 7   OBSNUM                 22184 non-null  int64  \n",
            " 8   totalobs-forsession    22184 non-null  int64  \n",
            " 9   Activity               22184 non-null  object \n",
            " 10  ONTASK                 22184 non-null  object \n",
            " 11  TRANSITIONS            22184 non-null  int64  \n",
            " 12  NumACTIVITIES          22184 non-null  int64  \n",
            " 13  FORMATchanges          22184 non-null  int64  \n",
            " 14  NumFORMATS             22184 non-null  int64  \n",
            " 15  Obsv/act               22184 non-null  float64\n",
            " 16  Transitions/Durations  22184 non-null  float64\n",
            " 17  Total Time             22184 non-null  int64  \n",
            "dtypes: float64(2), int64(11), object(5)\n",
            "memory usage: 3.0+ MB\n",
            "None\n"
          ]
        }
      ]
    },
    {
      "cell_type": "markdown",
      "metadata": {
        "id": "pw9h3Ky9BJRU"
      },
      "source": [
        "Since there were no mising values in the original datasets, we further clean the data by turning the categorical variables into dummy variables (with values 1 and 0) and remove redundant columns. "
      ]
    },
    {
      "cell_type": "code",
      "metadata": {
        "id": "4lymTeFWVWH4"
      },
      "source": [
        "#Turn the categorical variables ('SCHOOL', 'GRADE', 'Activity', 'ONTASK') into dummy variables across multiple columns\n",
        "df_va = pd.get_dummies(original_va, columns = ['SCHOOL', 'GRADE', 'Activity', 'ONTASK'])\n",
        "df_tr = pd.get_dummies(original_tr, columns = ['SCHOOL', 'GRADE', 'Activity', 'ONTASK'])\n",
        "\n",
        "#Make the 'ONTASK' columns a single column contating the dependent boolean variable\n",
        "df_va = df_va.rename(columns = {'ONTASK_Y': 'ONTASK'})\n",
        "df_tr = df_tr.rename(columns = {'ONTASK_Y': 'ONTASK'})\n",
        "\n",
        "#Turn 'NumACTIVITIES', 'NumFORMAT', and 'Obsv/act' to dummy variables for analysis\n",
        "#All data points that is over the average of the entire variable will be called 1; 0 otherwise\n",
        "df_va['NUMACTIVITIES_HIGH'] = (df_va['NumACTIVITIES'] > df_va['NumACTIVITIES'].mean()).astype(int)\n",
        "df_tr['NUMACTIVITIES_HIGH'] = (df_tr['NumACTIVITIES'] > df_tr['NumACTIVITIES'].mean()).astype(int)\n",
        "df_va['NUMFORMATS_HIGH'] = (df_va['NumFORMATS'] > df_va['NumFORMATS'].mean()).astype(int)\n",
        "df_tr['NUMFORMATS_HIGH'] = (df_tr['NumFORMATS'] > df_tr['NumFORMATS'].mean()).astype(int)\n",
        "df_va['OBSV/ACT_HIGH'] = (df_va['Obsv/act'] > df_va['Obsv/act'].mean()).astype(int)\n",
        "df_tr['OBSV/ACT_HIGH'] = (df_tr['Obsv/act'] > df_tr['Obsv/act'].mean()).astype(int)\n",
        "\n",
        "#Drop columns unnecessary for classification analysis\n",
        "#Turn all column names to lowercase\n",
        "df_va = df_va.drop(['UNIQUEID',\n",
        "                    'Class',\n",
        "                    'STUDENTID',\n",
        "                    'CODER',\n",
        "                    'OBSNUM',\n",
        "                    'ONTASK_N',\n",
        "                    'totalobs-forsession',\n",
        "                    'NumACTIVITIES',\n",
        "                    'TRANSITIONS',\n",
        "                    'NumFORMATS',\n",
        "                    'FORMATchanges',\n",
        "                    'Obsv/act',\n",
        "                    'Transitions/Durations',\n",
        "                    'Total Time'],\n",
        "                   axis = 1)\n",
        "df_tr = df_tr.drop(['UNIQUEID',\n",
        "                    'Class',\n",
        "                    'STUDENTID',\n",
        "                    'CODER',\n",
        "                    'OBSNUM',\n",
        "                    'ONTASK_N',\n",
        "                    'totalobs-forsession',\n",
        "                    'NumACTIVITIES',\n",
        "                    'TRANSITIONS',\n",
        "                    'NumFORMATS',\n",
        "                    'FORMATchanges',\n",
        "                    'Obsv/act',\n",
        "                    'Transitions/Durations',\n",
        "                    'Total Time'],\n",
        "                   axis = 1)\n",
        "df_va.columns = df_va.columns.str.lower()\n",
        "df_tr.columns = df_tr.columns.str.lower()"
      ],
      "execution_count": null,
      "outputs": []
    },
    {
      "cell_type": "markdown",
      "metadata": {
        "id": "XzmScUJ7BnIH"
      },
      "source": [
        "We now begin training and testing various logistic regression models with the cleaned data."
      ]
    },
    {
      "cell_type": "code",
      "metadata": {
        "id": "RjOO_ddPPjNZ"
      },
      "source": [
        "#Create functions to train and test logistic regression model\n",
        "from sklearn.linear_model import LogisticRegression\n",
        "from sklearn.metrics import accuracy_score\n",
        "from sklearn.metrics import confusion_matrix\n",
        "\n",
        "#Function to create a logistic regression model given a list of the independent variable column names\n",
        "y_tr = df_tr['ontask'].to_numpy()\n",
        "def new_log_reg (x_cols):\n",
        "    Xs_tr = df_tr[x_cols].to_numpy()\n",
        "    log_reg_model = LogisticRegression()\n",
        "    log_reg_model.fit(Xs_tr, y_tr)\n",
        "    return log_reg_model\n",
        "\n",
        "#Function to test a logistic regression model\n",
        "y_va = df_va['ontask'].to_numpy()\n",
        "def test_log_reg (x_cols, model):\n",
        "    Xs_va = df_va[x_cols].to_numpy()\n",
        "    pred = model.predict(Xs_va)\n",
        "    print(confusion_matrix(y_va, pred))\n",
        "    print(f\"Accuracy Score: {accuracy_score(y_va, pred)}\")\n",
        "    \n",
        "#Put function together\n",
        "def log_reg_tester (x_cols):\n",
        "    new_model = new_log_reg(x_cols)\n",
        "    test_log_reg(x_cols, new_model)"
      ],
      "execution_count": null,
      "outputs": []
    },
    {
      "cell_type": "code",
      "metadata": {
        "id": "pu1r-fO2ybsD"
      },
      "source": [
        "#Create functions to train and test decision tree model\n",
        "from sklearn.tree import DecisionTreeClassifier\n",
        "\n",
        "#Function to create a decision tree model given a list of the independent variable column names\n",
        "y_tr = df_tr['ontask']\n",
        "def new_dec_tree (x_cols):\n",
        "    Xs_tr = df_tr[x_cols]\n",
        "    dec_tree_model = DecisionTreeClassifier()\n",
        "    dec_tree_model.fit(Xs_tr, y_tr)\n",
        "    return dec_tree_model\n",
        "\n",
        "#Function to test a logistic regression model\n",
        "y_va = df_va['ontask']\n",
        "def test_dec_tree(x_cols, model):\n",
        "    Xs_va = df_va[x_cols]\n",
        "    pred = model.predict(Xs_va)\n",
        "    print(confusion_matrix(y_va, pred))\n",
        "    print(f\"Accuracy Score: {accuracy_score(y_va, pred)}\")\n",
        "    \n",
        "#Put function together\n",
        "def dec_tree_tester (x_cols):\n",
        "    new_model = new_dec_tree(x_cols)\n",
        "    test_dec_tree(x_cols, new_model)"
      ],
      "execution_count": null,
      "outputs": []
    },
    {
      "cell_type": "code",
      "metadata": {
        "id": "JP84wrkVyp96"
      },
      "source": [
        "#Create functions to train and naive Bayes model\n",
        "from sklearn.naive_bayes import GaussianNB\n",
        "\n",
        "#Function to create a naive Bayes model given a list of the independent variable column names\n",
        "def new_naive_bayes (x_cols):\n",
        "    Xs_tr = df_tr[x_cols]\n",
        "    naive_bayes_model = GaussianNB()\n",
        "    naive_bayes_model.fit(Xs_tr, y_tr)\n",
        "    return naive_bayes_model\n",
        "\n",
        "#Function to test a naive Bayes model\n",
        "def test_naive_bayes(x_cols, model):\n",
        "    Xs_va = df_va[x_cols]\n",
        "    pred = model.predict(Xs_va)\n",
        "    print(confusion_matrix(y_va, pred))\n",
        "    print(f\"Accuracy Score: {accuracy_score(y_va, pred)}\")\n",
        "    \n",
        "#Put function together\n",
        "def naive_bayes_tester (x_cols):\n",
        "    new_model = new_naive_bayes(x_cols)\n",
        "    test_naive_bayes(x_cols, new_model)"
      ],
      "execution_count": null,
      "outputs": []
    },
    {
      "cell_type": "markdown",
      "metadata": {
        "id": "G38ogJQuCpon"
      },
      "source": [
        "After conducting significance tests on the chosen variables (independently using SPSS) in the various models above, we removed variables with p-value > 0.05. The following is the model that yielded the highest accuracy score."
      ]
    },
    {
      "cell_type": "code",
      "metadata": {
        "id": "IeLPHgjOyvoB",
        "colab": {
          "base_uri": "https://localhost:8080/"
        },
        "outputId": "2f85380c-962a-4d85-87e0-c48413e0332a"
      },
      "source": [
        "\n",
        "#Model with highest accuraccy score upon testing\n",
        "x_cols = [\n",
        "'school_a',\n",
        "'school_b',\n",
        "'school_c',\n",
        "'school_d',\n",
        "'school_e',\n",
        "'grade_0',\n",
        "'grade_1',\n",
        "'grade_2',\n",
        "'grade_3',\n",
        "'grade_4',\n",
        "'activity_dancing',\n",
        "'activity_smallgroup',\n",
        "'activity_testing',\n",
        "'activity_wholedesks',\n",
        "'numactivities_high',\n",
        "'obsv/act_high'\n",
        "]\n",
        "dec_tree_tester(x_cols)"
      ],
      "execution_count": null,
      "outputs": [
        {
          "output_type": "stream",
          "name": "stdout",
          "text": [
            "[[ 174 1675]\n",
            " [ 132 3566]]\n",
            "Accuracy Score: 0.6742383270236164\n"
          ]
        }
      ]
    },
    {
      "cell_type": "markdown",
      "metadata": {
        "id": "XJz7rfuEC_19"
      },
      "source": [
        "**Observation/Insights**  \n",
        "\n",
        "The accuracy score above indicates that our classifer predicts on or off-task behavior accurately 67.42% of the time. This is slightly better than a 'blind guess'. In a blind guess model, the optimal strategy is to always guess that the students will pay attention, as the student pay attention on the majority of the observations. This naive strategy will result in a 66.67% accuracy rate (the ratio of observations with low attention in the validation data). Our model is slightly better than the naive strategy.  \n",
        "There are several insights we can gather from the final variables we used in the final model. To begin with, the accuracy rates were higher when the “school” variables were included. This suggests that attention rates may differ between schools; simply put, students in a certain school may be likely to pay attention compared to a student in another. This may be due to differences in the student pool or instructional quality. Secondly, the “gender” variable ended up being omitted. This suggests that the student’s gender is not a significant signal of whether the student is likely to be paying attention in class. Finally, and perhaps most interestingly, certain activities were left in the final model while others (“individual” and “wholecarpet”) were omitted. This came as somewhat of a surprise, as we initially conducted our analysis treating all activities equal. However, this result suggests that a specific subset of the activities (which remained in the model) have a relatively higher effect on whether or not the students pay attention."
      ]
    }
  ]
}