{
 "cells": [
  {
   "cell_type": "markdown",
   "id": "119b5ca6",
   "metadata": {},
   "source": [
    "# Individual Coding Exercise (ICE) 4\n",
    "\n",
    "In this ICE 4, classifier training is covered with binary logistic regression model, decision tree model, Naive Bayes model."
   ]
  },
  {
   "cell_type": "code",
   "execution_count": 1,
   "id": "d6be1997",
   "metadata": {},
   "outputs": [],
   "source": [
    "#import necessary packages\n",
    "\n",
    "import pandas as pd\n",
    "import matplotlib.pyplot as plt"
   ]
  },
  {
   "cell_type": "code",
   "execution_count": 2,
   "id": "1b096f2c",
   "metadata": {},
   "outputs": [
    {
     "data": {
      "text/html": [
       "<div>\n",
       "<style scoped>\n",
       "    .dataframe tbody tr th:only-of-type {\n",
       "        vertical-align: middle;\n",
       "    }\n",
       "\n",
       "    .dataframe tbody tr th {\n",
       "        vertical-align: top;\n",
       "    }\n",
       "\n",
       "    .dataframe thead th {\n",
       "        text-align: right;\n",
       "    }\n",
       "</style>\n",
       "<table border=\"1\" class=\"dataframe\">\n",
       "  <thead>\n",
       "    <tr style=\"text-align: right;\">\n",
       "      <th></th>\n",
       "      <th>certified</th>\n",
       "      <th>forum.posts</th>\n",
       "      <th>grade</th>\n",
       "      <th>assignment</th>\n",
       "    </tr>\n",
       "  </thead>\n",
       "  <tbody>\n",
       "    <tr>\n",
       "      <th>0</th>\n",
       "      <td>no</td>\n",
       "      <td>7</td>\n",
       "      <td>3</td>\n",
       "      <td>9</td>\n",
       "    </tr>\n",
       "    <tr>\n",
       "      <th>1</th>\n",
       "      <td>no</td>\n",
       "      <td>7</td>\n",
       "      <td>4</td>\n",
       "      <td>1</td>\n",
       "    </tr>\n",
       "    <tr>\n",
       "      <th>2</th>\n",
       "      <td>yes</td>\n",
       "      <td>191</td>\n",
       "      <td>8</td>\n",
       "      <td>19</td>\n",
       "    </tr>\n",
       "    <tr>\n",
       "      <th>3</th>\n",
       "      <td>yes</td>\n",
       "      <td>130</td>\n",
       "      <td>10</td>\n",
       "      <td>18</td>\n",
       "    </tr>\n",
       "    <tr>\n",
       "      <th>4</th>\n",
       "      <td>yes</td>\n",
       "      <td>135</td>\n",
       "      <td>8</td>\n",
       "      <td>18</td>\n",
       "    </tr>\n",
       "    <tr>\n",
       "      <th>...</th>\n",
       "      <td>...</td>\n",
       "      <td>...</td>\n",
       "      <td>...</td>\n",
       "      <td>...</td>\n",
       "    </tr>\n",
       "    <tr>\n",
       "      <th>995</th>\n",
       "      <td>yes</td>\n",
       "      <td>88</td>\n",
       "      <td>10</td>\n",
       "      <td>13</td>\n",
       "    </tr>\n",
       "    <tr>\n",
       "      <th>996</th>\n",
       "      <td>yes</td>\n",
       "      <td>153</td>\n",
       "      <td>10</td>\n",
       "      <td>19</td>\n",
       "    </tr>\n",
       "    <tr>\n",
       "      <th>997</th>\n",
       "      <td>no</td>\n",
       "      <td>41</td>\n",
       "      <td>4</td>\n",
       "      <td>3</td>\n",
       "    </tr>\n",
       "    <tr>\n",
       "      <th>998</th>\n",
       "      <td>no</td>\n",
       "      <td>47</td>\n",
       "      <td>6</td>\n",
       "      <td>12</td>\n",
       "    </tr>\n",
       "    <tr>\n",
       "      <th>999</th>\n",
       "      <td>yes</td>\n",
       "      <td>112</td>\n",
       "      <td>8</td>\n",
       "      <td>19</td>\n",
       "    </tr>\n",
       "  </tbody>\n",
       "</table>\n",
       "<p>1000 rows × 4 columns</p>\n",
       "</div>"
      ],
      "text/plain": [
       "    certified  forum.posts  grade  assignment\n",
       "0          no            7      3           9\n",
       "1          no            7      4           1\n",
       "2         yes          191      8          19\n",
       "3         yes          130     10          18\n",
       "4         yes          135      8          18\n",
       "..        ...          ...    ...         ...\n",
       "995       yes           88     10          13\n",
       "996       yes          153     10          19\n",
       "997        no           41      4           3\n",
       "998        no           47      6          12\n",
       "999       yes          112      8          19\n",
       "\n",
       "[1000 rows x 4 columns]"
      ]
     },
     "execution_count": 2,
     "metadata": {},
     "output_type": "execute_result"
    }
   ],
   "source": [
    "#upload the dataset\n",
    "\n",
    "mooc = pd.read_csv(\"ICE4_Data.csv\")\n",
    "mooc"
   ]
  },
  {
   "cell_type": "markdown",
   "id": "8d589e82",
   "metadata": {},
   "source": [
    "In this dataset, there are four variables:\n",
    "\n",
    "**certified**: whether the student earned the certificate at the end of the MOOC\n",
    "<br> **forum.posts**: how many posts the student has made throughout the course\n",
    "<br> **grade**: what grade they earned.\n",
    "<br> **assignment**: how many optional assignments the student has complemented."
   ]
  },
  {
   "cell_type": "code",
   "execution_count": 3,
   "id": "ede6c61a",
   "metadata": {},
   "outputs": [
    {
     "data": {
      "text/plain": [
       "yes    725\n",
       "no     275\n",
       "Name: certified, dtype: int64"
      ]
     },
     "execution_count": 3,
     "metadata": {},
     "output_type": "execute_result"
    }
   ],
   "source": [
    "#view the values and counts of the column named 'certified'\n",
    "\n",
    "mooc['certified'].value_counts()"
   ]
  },
  {
   "cell_type": "code",
   "execution_count": 4,
   "id": "a86f7a9d",
   "metadata": {},
   "outputs": [
    {
     "data": {
      "text/html": [
       "<div>\n",
       "<style scoped>\n",
       "    .dataframe tbody tr th:only-of-type {\n",
       "        vertical-align: middle;\n",
       "    }\n",
       "\n",
       "    .dataframe tbody tr th {\n",
       "        vertical-align: top;\n",
       "    }\n",
       "\n",
       "    .dataframe thead th {\n",
       "        text-align: right;\n",
       "    }\n",
       "</style>\n",
       "<table border=\"1\" class=\"dataframe\">\n",
       "  <thead>\n",
       "    <tr style=\"text-align: right;\">\n",
       "      <th></th>\n",
       "      <th>forum.posts</th>\n",
       "      <th>grade</th>\n",
       "      <th>assignment</th>\n",
       "    </tr>\n",
       "  </thead>\n",
       "  <tbody>\n",
       "    <tr>\n",
       "      <th>count</th>\n",
       "      <td>1000.000000</td>\n",
       "      <td>1000.00000</td>\n",
       "      <td>1000.000000</td>\n",
       "    </tr>\n",
       "    <tr>\n",
       "      <th>mean</th>\n",
       "      <td>113.107000</td>\n",
       "      <td>7.76500</td>\n",
       "      <td>13.693000</td>\n",
       "    </tr>\n",
       "    <tr>\n",
       "      <th>std</th>\n",
       "      <td>55.126477</td>\n",
       "      <td>2.38232</td>\n",
       "      <td>5.011973</td>\n",
       "    </tr>\n",
       "    <tr>\n",
       "      <th>min</th>\n",
       "      <td>1.000000</td>\n",
       "      <td>1.00000</td>\n",
       "      <td>1.000000</td>\n",
       "    </tr>\n",
       "    <tr>\n",
       "      <th>25%</th>\n",
       "      <td>72.750000</td>\n",
       "      <td>8.00000</td>\n",
       "      <td>12.000000</td>\n",
       "    </tr>\n",
       "    <tr>\n",
       "      <th>50%</th>\n",
       "      <td>118.500000</td>\n",
       "      <td>8.00000</td>\n",
       "      <td>15.000000</td>\n",
       "    </tr>\n",
       "    <tr>\n",
       "      <th>75%</th>\n",
       "      <td>160.000000</td>\n",
       "      <td>9.00000</td>\n",
       "      <td>17.000000</td>\n",
       "    </tr>\n",
       "    <tr>\n",
       "      <th>max</th>\n",
       "      <td>200.000000</td>\n",
       "      <td>10.00000</td>\n",
       "      <td>20.000000</td>\n",
       "    </tr>\n",
       "  </tbody>\n",
       "</table>\n",
       "</div>"
      ],
      "text/plain": [
       "       forum.posts       grade   assignment\n",
       "count  1000.000000  1000.00000  1000.000000\n",
       "mean    113.107000     7.76500    13.693000\n",
       "std      55.126477     2.38232     5.011973\n",
       "min       1.000000     1.00000     1.000000\n",
       "25%      72.750000     8.00000    12.000000\n",
       "50%     118.500000     8.00000    15.000000\n",
       "75%     160.000000     9.00000    17.000000\n",
       "max     200.000000    10.00000    20.000000"
      ]
     },
     "execution_count": 4,
     "metadata": {},
     "output_type": "execute_result"
    }
   ],
   "source": [
    "#descriptive statistics of the dataset\n",
    "\n",
    "mooc.describe()"
   ]
  },
  {
   "cell_type": "code",
   "execution_count": 5,
   "id": "0676f71a",
   "metadata": {},
   "outputs": [
    {
     "name": "stderr",
     "output_type": "stream",
     "text": [
      "WARNING: pip is being invoked by an old script wrapper. This will fail in a future version of pip.\n",
      "Please see https://github.com/pypa/pip/issues/5599 for advice on fixing the underlying issue.\n",
      "To avoid this problem you can invoke Python with '-m pip' instead of running pip directly.\n",
      "WARNING: Ignoring invalid distribution -atplotlib (c:\\users\\pooja\\anaconda3\\lib\\site-packages)\n",
      "WARNING: Ignoring invalid distribution -atplotlib (c:\\users\\pooja\\anaconda3\\lib\\site-packages)\n"
     ]
    },
    {
     "name": "stdout",
     "output_type": "stream",
     "text": [
      "Requirement already satisfied: seaborn in c:\\users\\pooja\\anaconda3\\lib\\site-packages (0.11.2)\n",
      "Requirement already satisfied: pandas>=0.23 in c:\\users\\pooja\\anaconda3\\lib\\site-packages (from seaborn) (0.25.3)\n",
      "Requirement already satisfied: scipy>=1.0 in c:\\users\\pooja\\anaconda3\\lib\\site-packages (from seaborn) (1.5.4)\n",
      "Requirement already satisfied: numpy>=1.15 in c:\\users\\pooja\\anaconda3\\lib\\site-packages (from seaborn) (1.19.2)\n",
      "Requirement already satisfied: matplotlib>=2.2 in c:\\users\\pooja\\anaconda3\\lib\\site-packages (from seaborn) (2.2.3)\n",
      "Requirement already satisfied: cycler>=0.10 in c:\\users\\pooja\\anaconda3\\lib\\site-packages (from matplotlib>=2.2->seaborn) (0.11.0)\n",
      "Requirement already satisfied: pyparsing!=2.0.4,!=2.1.2,!=2.1.6,>=2.0.1 in c:\\users\\pooja\\anaconda3\\lib\\site-packages (from matplotlib>=2.2->seaborn) (3.0.4)\n",
      "Requirement already satisfied: python-dateutil>=2.1 in c:\\users\\pooja\\anaconda3\\lib\\site-packages (from matplotlib>=2.2->seaborn) (2.8.2)\n",
      "Requirement already satisfied: pytz in c:\\users\\pooja\\anaconda3\\lib\\site-packages (from matplotlib>=2.2->seaborn) (2021.3)\n",
      "Requirement already satisfied: six>=1.10 in c:\\users\\pooja\\anaconda3\\lib\\site-packages (from matplotlib>=2.2->seaborn) (1.16.0)\n",
      "Requirement already satisfied: kiwisolver>=1.0.1 in c:\\users\\pooja\\anaconda3\\lib\\site-packages (from matplotlib>=2.2->seaborn) (1.3.1)\n"
     ]
    },
    {
     "name": "stderr",
     "output_type": "stream",
     "text": [
      "WARNING: Ignoring invalid distribution -atplotlib (c:\\users\\pooja\\anaconda3\\lib\\site-packages)\n",
      "WARNING: Ignoring invalid distribution -atplotlib (c:\\users\\pooja\\anaconda3\\lib\\site-packages)\n",
      "WARNING: Ignoring invalid distribution -atplotlib (c:\\users\\pooja\\anaconda3\\lib\\site-packages)\n"
     ]
    },
    {
     "data": {
      "text/plain": [
       "0"
      ]
     },
     "execution_count": 5,
     "metadata": {},
     "output_type": "execute_result"
    }
   ],
   "source": [
    "#installing seaborn package to import it in the next step\n",
    "\n",
    "import pip\n",
    "pip.main(['install', 'seaborn'])"
   ]
  },
  {
   "cell_type": "code",
   "execution_count": 6,
   "id": "17c1ba91",
   "metadata": {},
   "outputs": [],
   "source": [
    "#importing seaborn package to plot better graphics\n",
    "\n",
    "import seaborn as sns"
   ]
  },
  {
   "cell_type": "code",
   "execution_count": 7,
   "id": "606769cd",
   "metadata": {},
   "outputs": [
    {
     "data": {
      "text/plain": [
       "<seaborn.axisgrid.PairGrid at 0x2ec3b858a90>"
      ]
     },
     "execution_count": 7,
     "metadata": {},
     "output_type": "execute_result"
    },
    {
     "data": {
      "image/png": "[encoded data removed]",
      "text/plain": [
       "<Figure size 593.25x540 with 12 Axes>"
      ]
     },
     "metadata": {
      "needs_background": "light"
     },
     "output_type": "display_data"
    }
   ],
   "source": [
    "#plotting a graph of certified against the independent variables\n",
    "\n",
    "sns.pairplot(mooc, hue=\"certified\")"
   ]
  },
  {
   "cell_type": "code",
   "execution_count": 8,
   "id": "5bea7ee0",
   "metadata": {},
   "outputs": [],
   "source": [
    "#import LogisticRegression from sklearn.linear_model\n",
    "\n",
    "from sklearn.linear_model import LogisticRegression"
   ]
  },
  {
   "cell_type": "code",
   "execution_count": 9,
   "id": "c91ff7b0",
   "metadata": {},
   "outputs": [
    {
     "data": {
      "text/html": [
       "<div>\n",
       "<style scoped>\n",
       "    .dataframe tbody tr th:only-of-type {\n",
       "        vertical-align: middle;\n",
       "    }\n",
       "\n",
       "    .dataframe tbody tr th {\n",
       "        vertical-align: top;\n",
       "    }\n",
       "\n",
       "    .dataframe thead th {\n",
       "        text-align: right;\n",
       "    }\n",
       "</style>\n",
       "<table border=\"1\" class=\"dataframe\">\n",
       "  <thead>\n",
       "    <tr style=\"text-align: right;\">\n",
       "      <th></th>\n",
       "      <th>certified_no</th>\n",
       "      <th>certified_yes</th>\n",
       "    </tr>\n",
       "  </thead>\n",
       "  <tbody>\n",
       "    <tr>\n",
       "      <th>0</th>\n",
       "      <td>1</td>\n",
       "      <td>0</td>\n",
       "    </tr>\n",
       "    <tr>\n",
       "      <th>1</th>\n",
       "      <td>1</td>\n",
       "      <td>0</td>\n",
       "    </tr>\n",
       "    <tr>\n",
       "      <th>2</th>\n",
       "      <td>0</td>\n",
       "      <td>1</td>\n",
       "    </tr>\n",
       "    <tr>\n",
       "      <th>3</th>\n",
       "      <td>0</td>\n",
       "      <td>1</td>\n",
       "    </tr>\n",
       "    <tr>\n",
       "      <th>4</th>\n",
       "      <td>0</td>\n",
       "      <td>1</td>\n",
       "    </tr>\n",
       "    <tr>\n",
       "      <th>...</th>\n",
       "      <td>...</td>\n",
       "      <td>...</td>\n",
       "    </tr>\n",
       "    <tr>\n",
       "      <th>995</th>\n",
       "      <td>0</td>\n",
       "      <td>1</td>\n",
       "    </tr>\n",
       "    <tr>\n",
       "      <th>996</th>\n",
       "      <td>0</td>\n",
       "      <td>1</td>\n",
       "    </tr>\n",
       "    <tr>\n",
       "      <th>997</th>\n",
       "      <td>1</td>\n",
       "      <td>0</td>\n",
       "    </tr>\n",
       "    <tr>\n",
       "      <th>998</th>\n",
       "      <td>1</td>\n",
       "      <td>0</td>\n",
       "    </tr>\n",
       "    <tr>\n",
       "      <th>999</th>\n",
       "      <td>0</td>\n",
       "      <td>1</td>\n",
       "    </tr>\n",
       "  </tbody>\n",
       "</table>\n",
       "<p>1000 rows × 2 columns</p>\n",
       "</div>"
      ],
      "text/plain": [
       "     certified_no  certified_yes\n",
       "0               1              0\n",
       "1               1              0\n",
       "2               0              1\n",
       "3               0              1\n",
       "4               0              1\n",
       "..            ...            ...\n",
       "995             0              1\n",
       "996             0              1\n",
       "997             1              0\n",
       "998             1              0\n",
       "999             0              1\n",
       "\n",
       "[1000 rows x 2 columns]"
      ]
     },
     "execution_count": 9,
     "metadata": {},
     "output_type": "execute_result"
    }
   ],
   "source": [
    "#creating a new column names using prefix = 'certified'\n",
    "\n",
    "dummy = pd.get_dummies(mooc['certified'], prefix='certified')\n",
    "dummy"
   ]
  },
  {
   "cell_type": "code",
   "execution_count": 10,
   "id": "96eb653e",
   "metadata": {},
   "outputs": [
    {
     "data": {
      "text/html": [
       "<div>\n",
       "<style scoped>\n",
       "    .dataframe tbody tr th:only-of-type {\n",
       "        vertical-align: middle;\n",
       "    }\n",
       "\n",
       "    .dataframe tbody tr th {\n",
       "        vertical-align: top;\n",
       "    }\n",
       "\n",
       "    .dataframe thead th {\n",
       "        text-align: right;\n",
       "    }\n",
       "</style>\n",
       "<table border=\"1\" class=\"dataframe\">\n",
       "  <thead>\n",
       "    <tr style=\"text-align: right;\">\n",
       "      <th></th>\n",
       "      <th>forum.posts</th>\n",
       "      <th>grade</th>\n",
       "      <th>assignment</th>\n",
       "      <th>certified_yes</th>\n",
       "    </tr>\n",
       "  </thead>\n",
       "  <tbody>\n",
       "    <tr>\n",
       "      <th>0</th>\n",
       "      <td>7</td>\n",
       "      <td>3</td>\n",
       "      <td>9</td>\n",
       "      <td>0</td>\n",
       "    </tr>\n",
       "    <tr>\n",
       "      <th>1</th>\n",
       "      <td>7</td>\n",
       "      <td>4</td>\n",
       "      <td>1</td>\n",
       "      <td>0</td>\n",
       "    </tr>\n",
       "    <tr>\n",
       "      <th>2</th>\n",
       "      <td>191</td>\n",
       "      <td>8</td>\n",
       "      <td>19</td>\n",
       "      <td>1</td>\n",
       "    </tr>\n",
       "    <tr>\n",
       "      <th>3</th>\n",
       "      <td>130</td>\n",
       "      <td>10</td>\n",
       "      <td>18</td>\n",
       "      <td>1</td>\n",
       "    </tr>\n",
       "    <tr>\n",
       "      <th>4</th>\n",
       "      <td>135</td>\n",
       "      <td>8</td>\n",
       "      <td>18</td>\n",
       "      <td>1</td>\n",
       "    </tr>\n",
       "    <tr>\n",
       "      <th>...</th>\n",
       "      <td>...</td>\n",
       "      <td>...</td>\n",
       "      <td>...</td>\n",
       "      <td>...</td>\n",
       "    </tr>\n",
       "    <tr>\n",
       "      <th>995</th>\n",
       "      <td>88</td>\n",
       "      <td>10</td>\n",
       "      <td>13</td>\n",
       "      <td>1</td>\n",
       "    </tr>\n",
       "    <tr>\n",
       "      <th>996</th>\n",
       "      <td>153</td>\n",
       "      <td>10</td>\n",
       "      <td>19</td>\n",
       "      <td>1</td>\n",
       "    </tr>\n",
       "    <tr>\n",
       "      <th>997</th>\n",
       "      <td>41</td>\n",
       "      <td>4</td>\n",
       "      <td>3</td>\n",
       "      <td>0</td>\n",
       "    </tr>\n",
       "    <tr>\n",
       "      <th>998</th>\n",
       "      <td>47</td>\n",
       "      <td>6</td>\n",
       "      <td>12</td>\n",
       "      <td>0</td>\n",
       "    </tr>\n",
       "    <tr>\n",
       "      <th>999</th>\n",
       "      <td>112</td>\n",
       "      <td>8</td>\n",
       "      <td>19</td>\n",
       "      <td>1</td>\n",
       "    </tr>\n",
       "  </tbody>\n",
       "</table>\n",
       "<p>1000 rows × 4 columns</p>\n",
       "</div>"
      ],
      "text/plain": [
       "     forum.posts  grade  assignment  certified_yes\n",
       "0              7      3           9              0\n",
       "1              7      4           1              0\n",
       "2            191      8          19              1\n",
       "3            130     10          18              1\n",
       "4            135      8          18              1\n",
       "..           ...    ...         ...            ...\n",
       "995           88     10          13              1\n",
       "996          153     10          19              1\n",
       "997           41      4           3              0\n",
       "998           47      6          12              0\n",
       "999          112      8          19              1\n",
       "\n",
       "[1000 rows x 4 columns]"
      ]
     },
     "execution_count": 10,
     "metadata": {},
     "output_type": "execute_result"
    }
   ],
   "source": [
    "#merging and eliminating redundant columns\n",
    "\n",
    "moocD = pd.concat([mooc, dummy], axis=1)\n",
    "moocD = moocD.drop(['certified', 'certified_no'], axis=1)\n",
    "moocD"
   ]
  },
  {
   "cell_type": "code",
   "execution_count": 26,
   "id": "ab1a8f9e",
   "metadata": {},
   "outputs": [
    {
     "data": {
      "text/html": [
       "<div>\n",
       "<style scoped>\n",
       "    .dataframe tbody tr th:only-of-type {\n",
       "        vertical-align: middle;\n",
       "    }\n",
       "\n",
       "    .dataframe tbody tr th {\n",
       "        vertical-align: top;\n",
       "    }\n",
       "\n",
       "    .dataframe thead th {\n",
       "        text-align: right;\n",
       "    }\n",
       "</style>\n",
       "<table border=\"1\" class=\"dataframe\">\n",
       "  <thead>\n",
       "    <tr style=\"text-align: right;\">\n",
       "      <th></th>\n",
       "      <th>forum.posts</th>\n",
       "      <th>grade</th>\n",
       "      <th>assignment</th>\n",
       "      <th>certified_recode_no</th>\n",
       "      <th>certified_recode_yes</th>\n",
       "    </tr>\n",
       "  </thead>\n",
       "  <tbody>\n",
       "    <tr>\n",
       "      <th>0</th>\n",
       "      <td>7</td>\n",
       "      <td>3</td>\n",
       "      <td>9</td>\n",
       "      <td>1</td>\n",
       "      <td>0</td>\n",
       "    </tr>\n",
       "    <tr>\n",
       "      <th>1</th>\n",
       "      <td>7</td>\n",
       "      <td>4</td>\n",
       "      <td>1</td>\n",
       "      <td>1</td>\n",
       "      <td>0</td>\n",
       "    </tr>\n",
       "    <tr>\n",
       "      <th>2</th>\n",
       "      <td>191</td>\n",
       "      <td>8</td>\n",
       "      <td>19</td>\n",
       "      <td>0</td>\n",
       "      <td>1</td>\n",
       "    </tr>\n",
       "    <tr>\n",
       "      <th>3</th>\n",
       "      <td>130</td>\n",
       "      <td>10</td>\n",
       "      <td>18</td>\n",
       "      <td>0</td>\n",
       "      <td>1</td>\n",
       "    </tr>\n",
       "    <tr>\n",
       "      <th>4</th>\n",
       "      <td>135</td>\n",
       "      <td>8</td>\n",
       "      <td>18</td>\n",
       "      <td>0</td>\n",
       "      <td>1</td>\n",
       "    </tr>\n",
       "    <tr>\n",
       "      <th>...</th>\n",
       "      <td>...</td>\n",
       "      <td>...</td>\n",
       "      <td>...</td>\n",
       "      <td>...</td>\n",
       "      <td>...</td>\n",
       "    </tr>\n",
       "    <tr>\n",
       "      <th>995</th>\n",
       "      <td>88</td>\n",
       "      <td>10</td>\n",
       "      <td>13</td>\n",
       "      <td>0</td>\n",
       "      <td>1</td>\n",
       "    </tr>\n",
       "    <tr>\n",
       "      <th>996</th>\n",
       "      <td>153</td>\n",
       "      <td>10</td>\n",
       "      <td>19</td>\n",
       "      <td>0</td>\n",
       "      <td>1</td>\n",
       "    </tr>\n",
       "    <tr>\n",
       "      <th>997</th>\n",
       "      <td>41</td>\n",
       "      <td>4</td>\n",
       "      <td>3</td>\n",
       "      <td>1</td>\n",
       "      <td>0</td>\n",
       "    </tr>\n",
       "    <tr>\n",
       "      <th>998</th>\n",
       "      <td>47</td>\n",
       "      <td>6</td>\n",
       "      <td>12</td>\n",
       "      <td>1</td>\n",
       "      <td>0</td>\n",
       "    </tr>\n",
       "    <tr>\n",
       "      <th>999</th>\n",
       "      <td>112</td>\n",
       "      <td>8</td>\n",
       "      <td>19</td>\n",
       "      <td>0</td>\n",
       "      <td>1</td>\n",
       "    </tr>\n",
       "  </tbody>\n",
       "</table>\n",
       "<p>1000 rows × 5 columns</p>\n",
       "</div>"
      ],
      "text/plain": [
       "     forum.posts  grade  assignment  certified_recode_no  certified_recode_yes\n",
       "0              7      3           9                    1                     0\n",
       "1              7      4           1                    1                     0\n",
       "2            191      8          19                    0                     1\n",
       "3            130     10          18                    0                     1\n",
       "4            135      8          18                    0                     1\n",
       "..           ...    ...         ...                  ...                   ...\n",
       "995           88     10          13                    0                     1\n",
       "996          153     10          19                    0                     1\n",
       "997           41      4           3                    1                     0\n",
       "998           47      6          12                    1                     0\n",
       "999          112      8          19                    0                     1\n",
       "\n",
       "[1000 rows x 5 columns]"
      ]
     },
     "execution_count": 26,
     "metadata": {},
     "output_type": "execute_result"
    }
   ],
   "source": [
    "mooc_dummies = pd.get_dummies(mooc, prefix='certified_recode', columns=['certified'])\n",
    "mooc_dummies"
   ]
  },
  {
   "cell_type": "code",
   "execution_count": 12,
   "id": "d7ac1e30",
   "metadata": {},
   "outputs": [],
   "source": [
    "#Creating an array of Xs and an array for the training labels -- \"certified yes\"\n",
    "\n",
    "Xs = moocD[[\"forum.posts\", \"grade\", \"assignment\"]].to_numpy()\n",
    "certified = moocD.loc[:,\"certified_yes\"].values.reshape(-1,1)"
   ]
  },
  {
   "cell_type": "code",
   "execution_count": 13,
   "id": "1c0c0723",
   "metadata": {},
   "outputs": [
    {
     "name": "stderr",
     "output_type": "stream",
     "text": [
      "C:\\Users\\pooja\\anaconda3\\lib\\site-packages\\sklearn\\utils\\validation.py:63: DataConversionWarning: A column-vector y was passed when a 1d array was expected. Please change the shape of y to (n_samples, ), for example using ravel().\n",
      "  return f(*args, **kwargs)\n"
     ]
    },
    {
     "data": {
      "text/plain": [
       "LogisticRegression()"
      ]
     },
     "execution_count": 13,
     "metadata": {},
     "output_type": "execute_result"
    }
   ],
   "source": [
    "#loading LogisticRegression() and calling for LogisticRegression.fit()\n",
    "\n",
    "moocLogitModel1 = LogisticRegression()\n",
    "moocLogitModel1.fit(Xs, certified)"
   ]
  },
  {
   "cell_type": "code",
   "execution_count": 14,
   "id": "818abb6b",
   "metadata": {},
   "outputs": [
    {
     "data": {
      "text/plain": [
       "array([-63.13291439])"
      ]
     },
     "execution_count": 14,
     "metadata": {},
     "output_type": "execute_result"
    }
   ],
   "source": [
    "#calling intercept \n",
    "\n",
    "moocLogitModel1.intercept_"
   ]
  },
  {
   "cell_type": "code",
   "execution_count": 15,
   "id": "d7c3220f",
   "metadata": {},
   "outputs": [
    {
     "data": {
      "text/plain": [
       "array([[0.62419697, 0.52270711, 0.85766257]])"
      ]
     },
     "execution_count": 15,
     "metadata": {},
     "output_type": "execute_result"
    }
   ],
   "source": [
    "#calling coefficients of each parameter\n",
    "\n",
    "moocLogitModel1.coef_"
   ]
  },
  {
   "cell_type": "code",
   "execution_count": 17,
   "id": "ebf77669",
   "metadata": {},
   "outputs": [
    {
     "name": "stdout",
     "output_type": "stream",
     "text": [
      "Optimization terminated successfully.\n",
      "         Current function value: 22.457768\n",
      "         Iterations 7\n",
      "                           Logit Regression Results                           \n",
      "==============================================================================\n",
      "Dep. Variable:                      y   No. Observations:                 1000\n",
      "Model:                          Logit   Df Residuals:                      997\n",
      "Method:                           MLE   Df Model:                            2\n",
      "Date:                Sun, 12 Dec 2021   Pseudo R-squ.:                     inf\n",
      "Time:                        23:32:13   Log-Likelihood:                -22458.\n",
      "converged:                       True   LL-Null:                        0.0000\n",
      "Covariance Type:            nonrobust   LLR p-value:                     1.000\n",
      "==============================================================================\n",
      "                 coef    std err          z      P>|z|      [0.025      0.975]\n",
      "------------------------------------------------------------------------------\n",
      "x1             0.0378      0.003     10.852      0.000       0.031       0.045\n",
      "x2            -0.3202      0.047     -6.879      0.000      -0.411      -0.229\n",
      "x3             0.0315      0.025      1.258      0.208      -0.018       0.081\n",
      "==============================================================================\n"
     ]
    },
    {
     "name": "stderr",
     "output_type": "stream",
     "text": [
      "C:\\Users\\pooja\\anaconda3\\lib\\site-packages\\statsmodels\\base\\model.py:548: HessianInversionWarning: Inverting hessian failed, no bse or cov_params available\n",
      "  'available', HessianInversionWarning)\n",
      "C:\\Users\\pooja\\anaconda3\\lib\\site-packages\\statsmodels\\base\\model.py:548: HessianInversionWarning: Inverting hessian failed, no bse or cov_params available\n",
      "  'available', HessianInversionWarning)\n",
      "C:\\Users\\pooja\\anaconda3\\lib\\site-packages\\statsmodels\\discrete\\discrete_model.py:3500: RuntimeWarning: divide by zero encountered in double_scalars\n",
      "  return 1 - self.llf/self.llnull\n"
     ]
    }
   ],
   "source": [
    "import statsmodels.api as sm #using sm model from the statsmodels.api package to do the same as above\n",
    "\n",
    "moocLogitModel2 = sm.Logit(certified, Xs)\n",
    "moocLogitModel2Fit = moocLogitModel2.fit()\n",
    "print(moocLogitModel2Fit.summary())"
   ]
  },
  {
   "cell_type": "markdown",
   "id": "ed9d7ed5",
   "metadata": {},
   "source": [
    "Decision trees learn from data to approximate the training data with a set of if-then-else decision rules. The deeper the tree, the more complex the decision rules and the fitter the model."
   ]
  },
  {
   "cell_type": "code",
   "execution_count": 18,
   "id": "b9a9560b",
   "metadata": {},
   "outputs": [],
   "source": [
    "from sklearn.tree import DecisionTreeClassifier #importing decision tree classifier\n",
    "\n",
    "Xs_tree = mooc.drop('certified', axis = 1)\n",
    "certified = mooc['certified']"
   ]
  },
  {
   "cell_type": "code",
   "execution_count": 19,
   "id": "77f1da2a",
   "metadata": {},
   "outputs": [
    {
     "data": {
      "text/plain": [
       "DecisionTreeClassifier()"
      ]
     },
     "execution_count": 19,
     "metadata": {},
     "output_type": "execute_result"
    }
   ],
   "source": [
    "#initialize the classification tree model and then use the Xs and Y to train the model\n",
    "\n",
    "moocTreeModel = DecisionTreeClassifier()\n",
    "moocTreeModel.fit(Xs_tree, certified)"
   ]
  },
  {
   "cell_type": "markdown",
   "id": "d8b1cb03",
   "metadata": {},
   "source": [
    "Once we have the model, we have different ways to see what do we get. First, the text representation can be useful when working on applications whitout user interface or when we want to log information about the model into the text file. "
   ]
  },
  {
   "cell_type": "code",
   "execution_count": 20,
   "id": "2dc36abc",
   "metadata": {},
   "outputs": [
    {
     "name": "stdout",
     "output_type": "stream",
     "text": [
      "|--- feature_0 <= 79.50\n",
      "|   |--- class: no\n",
      "|--- feature_0 >  79.50\n",
      "|   |--- feature_1 <= 7.50\n",
      "|   |   |--- class: no\n",
      "|   |--- feature_1 >  7.50\n",
      "|   |   |--- class: yes\n",
      "\n"
     ]
    }
   ],
   "source": [
    "from sklearn import tree\n",
    "text_representation = tree.export_text(moocTreeModel)\n",
    "print(text_representation)"
   ]
  },
  {
   "cell_type": "code",
   "execution_count": null,
   "id": "4febd124",
   "metadata": {},
   "outputs": [],
   "source": [
    " tree.plot_tree(moocTreeModel, feature_names = [\"forum.posts\", \"grade\", \"assignment\"],\n",
    "               \n",
    "               class_names = mooc.certified) #more visual than text representation used above"
   ]
  },
  {
   "cell_type": "markdown",
   "id": "931e43c1",
   "metadata": {},
   "source": [
    "Next is Naive Bayes classifiers are built on Bayesian classification methods. These rely on Bayes's theorem, which is an equation describing the relationship of conditional probabilities of statistical quantities."
   ]
  },
  {
   "cell_type": "code",
   "execution_count": 27,
   "id": "cb21cd8a",
   "metadata": {},
   "outputs": [],
   "source": [
    "#importing the necessary package\n",
    "\n",
    "from sklearn.naive_bayes import GaussianNB \n",
    "\n",
    "Xs_NB = mooc.drop(\"certified\", axis = 1)\n",
    "certified = mooc['certified']"
   ]
  },
  {
   "cell_type": "markdown",
   "id": "d9b6e6d7",
   "metadata": {},
   "source": [
    "Here we are using predict() to use given Xs to predict the given y. And then use an advance way in Python called list comprehension to obtain whether each element in certified_pred matches the elements in certified. The result returns a list of True or False. We can take the summation of them and divided them by the length of this list to obtain the accuracy because True is viewed as 1 while False is viewed as 0."
   ]
  },
  {
   "cell_type": "code",
   "execution_count": 28,
   "id": "7ca3144e",
   "metadata": {},
   "outputs": [
    {
     "data": {
      "text/plain": [
       "GaussianNB()"
      ]
     },
     "execution_count": 28,
     "metadata": {},
     "output_type": "execute_result"
    }
   ],
   "source": [
    "#initialize the classification Naive Bayes model\n",
    "\n",
    "moocNBModel = GaussianNB()\n",
    "moocNBModel.fit(Xs_NB, certified)"
   ]
  },
  {
   "cell_type": "code",
   "execution_count": 23,
   "id": "67be91d5",
   "metadata": {},
   "outputs": [
    {
     "name": "stdout",
     "output_type": "stream",
     "text": [
      "The accuracy is 100.0 %\n"
     ]
    }
   ],
   "source": [
    "certified_pred = moocNBModel.predict(Xs_NB)\n",
    "performance = [item in certified_pred for item in certified]\n",
    "print(\"The accuracy is\", sum(performance)/len(performance)*100, '%')"
   ]
  },
  {
   "cell_type": "markdown",
   "id": "d4514553",
   "metadata": {},
   "source": [
    "We now need a sample of data held back from training our model that is used to give an estimate of model performance. This type of data is often called either validation data or test data as opposed to the training data, which was used to train the model."
   ]
  },
  {
   "cell_type": "code",
   "execution_count": 24,
   "id": "6a8fe94c",
   "metadata": {},
   "outputs": [],
   "source": [
    "#Splitting the data\n",
    "\n",
    "from sklearn.model_selection import train_test_split\n",
    "\n",
    "#For logistic regression\n",
    "Xs_logit = moocD[[\"forum.posts\", \"grade\", \"assignment\"]].to_numpy()\n",
    "certified_logit = moocD.loc[:, \"certified_yes\"].values.reshape(-1,1)\n",
    "xs_logit_training, xs_logit_test, y_logit_training, y_logit_test = train_test_split(Xs_logit, certified_logit, test_size = 0.2)\n",
    "\n",
    "#For decision tree and Naive Bayes\n",
    "Xs_TNB = mooc.drop('certified', axis = 1)\n",
    "certified_TNB = mooc['certified']\n",
    "xs_TNB_training, xs_TNB_test, y_TNB_training, y_TNB_test = train_test_split(Xs_TNB, certified_TNB, test_size = 0.2)"
   ]
  },
  {
   "cell_type": "code",
   "execution_count": 41,
   "id": "731b8bab",
   "metadata": {},
   "outputs": [
    {
     "name": "stderr",
     "output_type": "stream",
     "text": [
      "C:\\Users\\pooja\\anaconda3\\lib\\site-packages\\sklearn\\utils\\validation.py:63: DataConversionWarning: A column-vector y was passed when a 1d array was expected. Please change the shape of y to (n_samples, ), for example using ravel().\n",
      "  return f(*args, **kwargs)\n"
     ]
    },
    {
     "data": {
      "text/plain": [
       "LogisticRegression()"
      ]
     },
     "execution_count": 41,
     "metadata": {},
     "output_type": "execute_result"
    }
   ],
   "source": [
    "#Re-train the model with just the training data\n",
    "#Logistic regression with sklearn\n",
    "\n",
    "moocTrainModel1 = LogisticRegression()\n",
    "moocTrainModel1.fit(Xs_logit, certified_logit)"
   ]
  },
  {
   "cell_type": "code",
   "execution_count": 38,
   "id": "985d86cd",
   "metadata": {},
   "outputs": [
    {
     "data": {
      "text/plain": [
       "array([-63.13291439])"
      ]
     },
     "execution_count": 38,
     "metadata": {},
     "output_type": "execute_result"
    }
   ],
   "source": [
    "moocTrainModel1.intercept_"
   ]
  },
  {
   "cell_type": "code",
   "execution_count": 39,
   "id": "88ae23b0",
   "metadata": {},
   "outputs": [
    {
     "data": {
      "text/plain": [
       "array([[0.62419697, 0.52270711, 0.85766257]])"
      ]
     },
     "execution_count": 39,
     "metadata": {},
     "output_type": "execute_result"
    }
   ],
   "source": [
    "moocTrainModel1.coef_"
   ]
  },
  {
   "cell_type": "code",
   "execution_count": 42,
   "id": "4dee6193",
   "metadata": {},
   "outputs": [
    {
     "name": "stdout",
     "output_type": "stream",
     "text": [
      "Optimization terminated successfully.\n",
      "         Current function value: 22.457768\n",
      "         Iterations 7\n",
      "                           Logit Regression Results                           \n",
      "==============================================================================\n",
      "Dep. Variable:                      y   No. Observations:                 1000\n",
      "Model:                          Logit   Df Residuals:                      997\n",
      "Method:                           MLE   Df Model:                            2\n",
      "Date:                Mon, 13 Dec 2021   Pseudo R-squ.:                     inf\n",
      "Time:                        00:56:54   Log-Likelihood:                -22458.\n",
      "converged:                       True   LL-Null:                        0.0000\n",
      "Covariance Type:            nonrobust   LLR p-value:                     1.000\n",
      "==============================================================================\n",
      "                 coef    std err          z      P>|z|      [0.025      0.975]\n",
      "------------------------------------------------------------------------------\n",
      "x1             0.0378      0.003     10.852      0.000       0.031       0.045\n",
      "x2            -0.3202      0.047     -6.879      0.000      -0.411      -0.229\n",
      "x3             0.0315      0.025      1.258      0.208      -0.018       0.081\n",
      "==============================================================================\n"
     ]
    },
    {
     "name": "stderr",
     "output_type": "stream",
     "text": [
      "C:\\Users\\pooja\\anaconda3\\lib\\site-packages\\statsmodels\\base\\model.py:548: HessianInversionWarning: Inverting hessian failed, no bse or cov_params available\n",
      "  'available', HessianInversionWarning)\n",
      "C:\\Users\\pooja\\anaconda3\\lib\\site-packages\\statsmodels\\base\\model.py:548: HessianInversionWarning: Inverting hessian failed, no bse or cov_params available\n",
      "  'available', HessianInversionWarning)\n",
      "C:\\Users\\pooja\\anaconda3\\lib\\site-packages\\statsmodels\\discrete\\discrete_model.py:3500: RuntimeWarning: divide by zero encountered in double_scalars\n",
      "  return 1 - self.llf/self.llnull\n"
     ]
    }
   ],
   "source": [
    "#Re-train the model with just the training data\n",
    "#Logistic Regression with statsmodels\n",
    "\n",
    "moocTrainModel2 = sm.Logit(certified_logit, Xs_logit)\n",
    "moocTrainModel2Fit = moocTrainModel2.fit()\n",
    "print(moocTrainModel2Fit.summary())"
   ]
  },
  {
   "cell_type": "code",
   "execution_count": 48,
   "id": "15e62578",
   "metadata": {},
   "outputs": [
    {
     "data": {
      "text/plain": [
       "DecisionTreeClassifier()"
      ]
     },
     "execution_count": 48,
     "metadata": {},
     "output_type": "execute_result"
    }
   ],
   "source": [
    "#Re-train the model with just the training data\n",
    "#Decision Tree\n",
    "\n",
    "moocTrainTreeModel = DecisionTreeClassifier()\n",
    "moocTrainTreeModel.fit(Xs_TNB, certified_TNB)"
   ]
  },
  {
   "cell_type": "code",
   "execution_count": 49,
   "id": "2b1322db",
   "metadata": {},
   "outputs": [
    {
     "name": "stdout",
     "output_type": "stream",
     "text": [
      "|--- feature_0 <= 79.50\n",
      "|   |--- class: no\n",
      "|--- feature_0 >  79.50\n",
      "|   |--- feature_2 <= 11.00\n",
      "|   |   |--- class: no\n",
      "|   |--- feature_2 >  11.00\n",
      "|   |   |--- class: yes\n",
      "\n"
     ]
    }
   ],
   "source": [
    "Text_rep_2 = tree.export_text(moocTrainTreeModel)\n",
    "print(Text_rep_2)"
   ]
  },
  {
   "cell_type": "code",
   "execution_count": 50,
   "id": "c97b9281",
   "metadata": {},
   "outputs": [
    {
     "data": {
      "text/plain": [
       "[Text(136.72,187.033,'X[0] <= 79.5\\ngini = 0.399\\nsamples = 1000\\nvalue = [275, 725]'),\n",
       " Text(68.36,112.22,'gini = 0.0\\nsamples = 271\\nvalue = [271, 0]'),\n",
       " Text(205.08,112.22,'X[2] <= 11.0\\ngini = 0.011\\nsamples = 729\\nvalue = [4, 725]'),\n",
       " Text(136.72,37.4067,'gini = 0.0\\nsamples = 4\\nvalue = [4, 0]'),\n",
       " Text(273.44,37.4067,'gini = 0.0\\nsamples = 725\\nvalue = [0, 725]')]"
      ]
     },
     "execution_count": 50,
     "metadata": {},
     "output_type": "execute_result"
    },
    {
     "data": {
      "image/png": "[encoded data removed]",
      "text/plain": [
       "<Figure size 432x288 with 1 Axes>"
      ]
     },
     "metadata": {
      "needs_background": "light"
     },
     "output_type": "display_data"
    }
   ],
   "source": [
    "tree.plot_tree(moocTrainTreeModel)"
   ]
  },
  {
   "cell_type": "code",
   "execution_count": 53,
   "id": "6cccd7ee",
   "metadata": {},
   "outputs": [
    {
     "data": {
      "text/plain": [
       "GaussianNB()"
      ]
     },
     "execution_count": 53,
     "metadata": {},
     "output_type": "execute_result"
    }
   ],
   "source": [
    "#Re-train the model with just the training data\n",
    "#Naive Bayes\n",
    "\n",
    "moocTrainNBModel = GaussianNB()\n",
    "moocTrainNBModel.fit(Xs_TNB, certified_TNB)"
   ]
  },
  {
   "cell_type": "code",
   "execution_count": 34,
   "id": "cb859998",
   "metadata": {},
   "outputs": [],
   "source": [
    "from sklearn.metrics import confusion_matrix"
   ]
  },
  {
   "cell_type": "code",
   "execution_count": 35,
   "id": "2d30b22d",
   "metadata": {},
   "outputs": [
    {
     "name": "stdout",
     "output_type": "stream",
     "text": [
      "[[ 54   0]\n",
      " [  0 146]]\n"
     ]
    }
   ],
   "source": [
    "#sklearn logistic regression model confusion matrix\n",
    "\n",
    "print(confusion_matrix(y_logit_test, certified_pred_logit1))"
   ]
  }
 ],
 "metadata": {
  "kernelspec": {
   "display_name": "Python 3",
   "language": "python",
   "name": "python3"
  },
  "language_info": {
   "codemirror_mode": {
    "name": "ipython",
    "version": 3
   },
   "file_extension": ".py",
   "mimetype": "text/x-python",
   "name": "python",
   "nbconvert_exporter": "python",
   "pygments_lexer": "ipython3",
   "version": "3.6.13"
  }
 },
 "nbformat": 4,
 "nbformat_minor": 5
}
