{
 "cells": [
  {
   "cell_type": "markdown",
   "id": "d1a3b385",
   "metadata": {},
   "source": [
    "# Analysis Challenge Assignment (ACA) 4: Social Network Analysis\n",
    "\n",
    "**by Pooja Addla**"
   ]
  },
  {
   "cell_type": "markdown",
   "id": "00732a61",
   "metadata": {},
   "source": [
    "In this ACA 4, I have performed social network analysis on *Marvel Cinematic Universe (MCU)* characters to identify clusters, how each character is connected to the other and notable influencers.\n",
    "\n",
    "\n",
    "According to the Marvel Cinematic Universe fandom website, \"The *MCU* is a media franchise created by *Marvel Studios*, set primarily in a shared universe designated as the reality Earth-199999 within *Marvel's* multiverse system, with some installments also set in adjacent or branching realities.\"\n",
    "\n",
    "In the *MCU*, the *Avengers* are a team of superheroes assembled by Nick Fury, the then-director of *S.H.I.E.L.D* which was a former intelligence agency. Meanwhile, \"The *Guardians of the Galaxy* are a band of intergalactic outlaws who teamed together to protect the galaxy from planetary threats.\""
   ]
  },
  {
   "cell_type": "code",
   "execution_count": 62,
   "id": "0aac5bac",
   "metadata": {},
   "outputs": [],
   "source": [
    "#importing necessary packages\n",
    "\n",
    "import networkx as nx #this module helps with social network analysis\n",
    "import pandas as pd\n",
    "import numpy as np\n",
    "import matplotlib.pyplot as plt"
   ]
  },
  {
   "cell_type": "markdown",
   "id": "095791df",
   "metadata": {},
   "source": [
    "The dataset used, `ACA4_data`, contains an adjancecy matrix I created myself by conducting stringent research of *MCU* cast/characters based on the data available online -- analyzing how many movies^ every character has in common. \n",
    "\n",
    "It is important to note that the dataset is based on the *Marvel **Cinematic** Universe* and not the comics, and does not include villains^^, supporting characters^^^ or characters who appear only in post-credit scenes of a movie. The last two *Avengers* movies (*Infinity War* and *Endgame*) were not accounted for while making the adjacency matrix since almost all characters appeared in those. Additionally, characters who only appeared in 1 movie (not including *Infinity War* and *Endgame*) were removed from the dataset regardless of the character's importance in the comics or future movies. Furthermore, *Spiderman*, *Deadpool*, *X-men* and *Eternals* characters were not included as they are different franchises. All data cleaning was performed manually in the `.csv` file prior to importing it.  \n",
    "\n",
    "\n",
    "^all MCU movies and series released as of 11/30/2021 not including *Infinity War* and *Endgame*.  \n",
    "\n",
    "^^for the purpose of this ACA4, *Loki* is considered a villain.  \n",
    "\n",
    "^^^ for the purpose of this ACA4, supporting characters are spouses/romantic partners and anyone without some super-strength or super-power regardless of their importance in the MCU."
   ]
  },
  {
   "cell_type": "code",
   "execution_count": 65,
   "id": "b43ac68c",
   "metadata": {},
   "outputs": [],
   "source": [
    "#importing the required dataset\n",
    "\n",
    "SNAdata = pd.read_csv(\"ACA4_Data.csv\", index_col=0) #index_col = 0 sets the first column as row names since the dataset is an adjacency matrix\n",
    "G = nx.Graph(SNAdata) "
   ]
  },
  {
   "cell_type": "code",
   "execution_count": 64,
   "id": "b6a0d2dc",
   "metadata": {},
   "outputs": [
    {
     "data": {
      "image/png": "[encoded data removed]",
      "text/plain": [
       "<Figure size 432x288 with 1 Axes>"
      ]
     },
     "metadata": {},
     "output_type": "display_data"
    }
   ],
   "source": [
    "#plotting the network\n",
    "\n",
    "nx.draw(G, with_labels = True) "
   ]
  },
  {
   "cell_type": "markdown",
   "id": "274dc1f0",
   "metadata": {},
   "source": [
    "The above graph is just a basic first look. Design changes have been implemented in the following sections. As we can see, there are two clear clusters. From knowledge of the MCU, it is evident that the top cluster with higher number of nodes show the *Avengers* and the bottom cluster show the *Guardians of the Galaxy*."
   ]
  },
  {
   "cell_type": "code",
   "execution_count": 26,
   "id": "7271963b",
   "metadata": {},
   "outputs": [
    {
     "name": "stdout",
     "output_type": "stream",
     "text": [
      "The edge density is: 0.474\n"
     ]
    }
   ],
   "source": [
    "density = nx.density(G) #density is the measure of how complete the graph is i.e. how many edges are present in the network as compared to the total possible number of edges\n",
    "\n",
    "print('The edge density is: %.3f' % (density)) \n"
   ]
  },
  {
   "cell_type": "markdown",
   "id": "3c68115f",
   "metadata": {},
   "source": [
    "The network is well connectected since we can see 47.4% links among all possible links."
   ]
  },
  {
   "cell_type": "code",
   "execution_count": 27,
   "id": "59fe208f",
   "metadata": {},
   "outputs": [
    {
     "data": {
      "text/plain": [
       "DegreeView({'Ant Man': 10, 'Black Panther': 10, 'Black Widow': 12, 'Captain America': 12, 'Dr. Strange': 3, 'Drax': 5, 'Falcon': 12, 'Gamora': 5, 'Groot': 5, 'Hawkeye': 12, 'Hulk': 10, 'Iron Man': 12, 'Mantis': 5, 'Rocket': 5, 'Scarlet Witch': 12, 'Star Lord': 5, 'Thor': 10, 'Vision': 12, 'War Machine': 12, 'Winter Soldier': 11})"
      ]
     },
     "execution_count": 27,
     "metadata": {},
     "output_type": "execute_result"
    }
   ],
   "source": [
    "degree = nx.degree(G) #finding the number of degrees i.e. how many edges each node has\n",
    "                      #output will be a dictionary-like object\n",
    "degree"
   ]
  },
  {
   "cell_type": "code",
   "execution_count": 69,
   "id": "475a9316",
   "metadata": {},
   "outputs": [
    {
     "data": {
      "text/html": [
       "<div>\n",
       "<style scoped>\n",
       "    .dataframe tbody tr th:only-of-type {\n",
       "        vertical-align: middle;\n",
       "    }\n",
       "\n",
       "    .dataframe tbody tr th {\n",
       "        vertical-align: top;\n",
       "    }\n",
       "\n",
       "    .dataframe thead th {\n",
       "        text-align: right;\n",
       "    }\n",
       "</style>\n",
       "<table border=\"1\" class=\"dataframe\">\n",
       "  <thead>\n",
       "    <tr style=\"text-align: right;\">\n",
       "      <th></th>\n",
       "      <th>0</th>\n",
       "      <th>1</th>\n",
       "    </tr>\n",
       "  </thead>\n",
       "  <tbody>\n",
       "    <tr>\n",
       "      <th>0</th>\n",
       "      <td>Ant Man</td>\n",
       "      <td>10</td>\n",
       "    </tr>\n",
       "    <tr>\n",
       "      <th>1</th>\n",
       "      <td>Black Panther</td>\n",
       "      <td>10</td>\n",
       "    </tr>\n",
       "    <tr>\n",
       "      <th>2</th>\n",
       "      <td>Black Widow</td>\n",
       "      <td>12</td>\n",
       "    </tr>\n",
       "    <tr>\n",
       "      <th>3</th>\n",
       "      <td>Captain America</td>\n",
       "      <td>12</td>\n",
       "    </tr>\n",
       "    <tr>\n",
       "      <th>4</th>\n",
       "      <td>Dr. Strange</td>\n",
       "      <td>3</td>\n",
       "    </tr>\n",
       "    <tr>\n",
       "      <th>5</th>\n",
       "      <td>Drax</td>\n",
       "      <td>5</td>\n",
       "    </tr>\n",
       "    <tr>\n",
       "      <th>6</th>\n",
       "      <td>Falcon</td>\n",
       "      <td>12</td>\n",
       "    </tr>\n",
       "    <tr>\n",
       "      <th>7</th>\n",
       "      <td>Gamora</td>\n",
       "      <td>5</td>\n",
       "    </tr>\n",
       "    <tr>\n",
       "      <th>8</th>\n",
       "      <td>Groot</td>\n",
       "      <td>5</td>\n",
       "    </tr>\n",
       "    <tr>\n",
       "      <th>9</th>\n",
       "      <td>Hawkeye</td>\n",
       "      <td>12</td>\n",
       "    </tr>\n",
       "    <tr>\n",
       "      <th>10</th>\n",
       "      <td>Hulk</td>\n",
       "      <td>10</td>\n",
       "    </tr>\n",
       "    <tr>\n",
       "      <th>11</th>\n",
       "      <td>Iron Man</td>\n",
       "      <td>12</td>\n",
       "    </tr>\n",
       "    <tr>\n",
       "      <th>12</th>\n",
       "      <td>Mantis</td>\n",
       "      <td>5</td>\n",
       "    </tr>\n",
       "    <tr>\n",
       "      <th>13</th>\n",
       "      <td>Rocket</td>\n",
       "      <td>5</td>\n",
       "    </tr>\n",
       "    <tr>\n",
       "      <th>14</th>\n",
       "      <td>Scarlet Witch</td>\n",
       "      <td>12</td>\n",
       "    </tr>\n",
       "    <tr>\n",
       "      <th>15</th>\n",
       "      <td>Star Lord</td>\n",
       "      <td>5</td>\n",
       "    </tr>\n",
       "    <tr>\n",
       "      <th>16</th>\n",
       "      <td>Thor</td>\n",
       "      <td>10</td>\n",
       "    </tr>\n",
       "    <tr>\n",
       "      <th>17</th>\n",
       "      <td>Vision</td>\n",
       "      <td>12</td>\n",
       "    </tr>\n",
       "    <tr>\n",
       "      <th>18</th>\n",
       "      <td>War Machine</td>\n",
       "      <td>12</td>\n",
       "    </tr>\n",
       "    <tr>\n",
       "      <th>19</th>\n",
       "      <td>Winter Soldier</td>\n",
       "      <td>11</td>\n",
       "    </tr>\n",
       "  </tbody>\n",
       "</table>\n",
       "</div>"
      ],
      "text/plain": [
       "                  0   1\n",
       "0           Ant Man  10\n",
       "1     Black Panther  10\n",
       "2       Black Widow  12\n",
       "3   Captain America  12\n",
       "4       Dr. Strange   3\n",
       "5              Drax   5\n",
       "6            Falcon  12\n",
       "7            Gamora   5\n",
       "8             Groot   5\n",
       "9           Hawkeye  12\n",
       "10             Hulk  10\n",
       "11         Iron Man  12\n",
       "12           Mantis   5\n",
       "13           Rocket   5\n",
       "14    Scarlet Witch  12\n",
       "15        Star Lord   5\n",
       "16             Thor  10\n",
       "17           Vision  12\n",
       "18      War Machine  12\n",
       "19   Winter Soldier  11"
      ]
     },
     "execution_count": 69,
     "metadata": {},
     "output_type": "execute_result"
    }
   ],
   "source": [
    "pd.DataFrame(degree) #visualizing the above dictionary better by converting it into a pandas dataframe"
   ]
  },
  {
   "cell_type": "code",
   "execution_count": 29,
   "id": "d0b87211",
   "metadata": {},
   "outputs": [
    {
     "data": {
      "text/html": [
       "<div>\n",
       "<style scoped>\n",
       "    .dataframe tbody tr th:only-of-type {\n",
       "        vertical-align: middle;\n",
       "    }\n",
       "\n",
       "    .dataframe tbody tr th {\n",
       "        vertical-align: top;\n",
       "    }\n",
       "\n",
       "    .dataframe thead th {\n",
       "        text-align: right;\n",
       "    }\n",
       "</style>\n",
       "<table border=\"1\" class=\"dataframe\">\n",
       "  <thead>\n",
       "    <tr style=\"text-align: right;\">\n",
       "      <th></th>\n",
       "      <th>0</th>\n",
       "    </tr>\n",
       "  </thead>\n",
       "  <tbody>\n",
       "    <tr>\n",
       "      <th>Ant Man</th>\n",
       "      <td>0.555921</td>\n",
       "    </tr>\n",
       "    <tr>\n",
       "      <th>Black Panther</th>\n",
       "      <td>0.555921</td>\n",
       "    </tr>\n",
       "    <tr>\n",
       "      <th>Black Widow</th>\n",
       "      <td>0.635338</td>\n",
       "    </tr>\n",
       "    <tr>\n",
       "      <th>Captain America</th>\n",
       "      <td>0.635338</td>\n",
       "    </tr>\n",
       "    <tr>\n",
       "      <th>Dr. Strange</th>\n",
       "      <td>0.386728</td>\n",
       "    </tr>\n",
       "    <tr>\n",
       "      <th>Drax</th>\n",
       "      <td>0.263158</td>\n",
       "    </tr>\n",
       "    <tr>\n",
       "      <th>Falcon</th>\n",
       "      <td>0.635338</td>\n",
       "    </tr>\n",
       "    <tr>\n",
       "      <th>Gamora</th>\n",
       "      <td>0.263158</td>\n",
       "    </tr>\n",
       "    <tr>\n",
       "      <th>Groot</th>\n",
       "      <td>0.263158</td>\n",
       "    </tr>\n",
       "    <tr>\n",
       "      <th>Hawkeye</th>\n",
       "      <td>0.635338</td>\n",
       "    </tr>\n",
       "    <tr>\n",
       "      <th>Hulk</th>\n",
       "      <td>0.555921</td>\n",
       "    </tr>\n",
       "    <tr>\n",
       "      <th>Iron Man</th>\n",
       "      <td>0.635338</td>\n",
       "    </tr>\n",
       "    <tr>\n",
       "      <th>Mantis</th>\n",
       "      <td>0.263158</td>\n",
       "    </tr>\n",
       "    <tr>\n",
       "      <th>Rocket</th>\n",
       "      <td>0.263158</td>\n",
       "    </tr>\n",
       "    <tr>\n",
       "      <th>Scarlet Witch</th>\n",
       "      <td>0.635338</td>\n",
       "    </tr>\n",
       "    <tr>\n",
       "      <th>Star Lord</th>\n",
       "      <td>0.263158</td>\n",
       "    </tr>\n",
       "    <tr>\n",
       "      <th>Thor</th>\n",
       "      <td>0.555921</td>\n",
       "    </tr>\n",
       "    <tr>\n",
       "      <th>Vision</th>\n",
       "      <td>0.635338</td>\n",
       "    </tr>\n",
       "    <tr>\n",
       "      <th>War Machine</th>\n",
       "      <td>0.635338</td>\n",
       "    </tr>\n",
       "    <tr>\n",
       "      <th>Winter Soldier</th>\n",
       "      <td>0.592982</td>\n",
       "    </tr>\n",
       "  </tbody>\n",
       "</table>\n",
       "</div>"
      ],
      "text/plain": [
       "                        0\n",
       "Ant Man          0.555921\n",
       "Black Panther    0.555921\n",
       "Black Widow      0.635338\n",
       "Captain America  0.635338\n",
       "Dr. Strange      0.386728\n",
       "Drax             0.263158\n",
       "Falcon           0.635338\n",
       "Gamora           0.263158\n",
       "Groot            0.263158\n",
       "Hawkeye          0.635338\n",
       "Hulk             0.555921\n",
       "Iron Man         0.635338\n",
       "Mantis           0.263158\n",
       "Rocket           0.263158\n",
       "Scarlet Witch    0.635338\n",
       "Star Lord        0.263158\n",
       "Thor             0.555921\n",
       "Vision           0.635338\n",
       "War Machine      0.635338\n",
       "Winter Soldier   0.592982"
      ]
     },
     "execution_count": 29,
     "metadata": {},
     "output_type": "execute_result"
    }
   ],
   "source": [
    "close = nx.closeness_centrality(G) #closeness is how quickly a node can travel to the rest of the graph\n",
    "                                   #returns a dictionary in a different way as compared to degree()\n",
    "pd.DataFrame.from_dict(close, orient = 'index') #specifying orientation"
   ]
  },
  {
   "cell_type": "code",
   "execution_count": 30,
   "id": "1c8fd057",
   "metadata": {},
   "outputs": [
    {
     "data": {
      "text/html": [
       "<div>\n",
       "<style scoped>\n",
       "    .dataframe tbody tr th:only-of-type {\n",
       "        vertical-align: middle;\n",
       "    }\n",
       "\n",
       "    .dataframe tbody tr th {\n",
       "        vertical-align: top;\n",
       "    }\n",
       "\n",
       "    .dataframe thead th {\n",
       "        text-align: right;\n",
       "    }\n",
       "</style>\n",
       "<table border=\"1\" class=\"dataframe\">\n",
       "  <thead>\n",
       "    <tr style=\"text-align: right;\">\n",
       "      <th></th>\n",
       "      <th>0</th>\n",
       "    </tr>\n",
       "  </thead>\n",
       "  <tbody>\n",
       "    <tr>\n",
       "      <th>Ant Man</th>\n",
       "      <td>0.000000</td>\n",
       "    </tr>\n",
       "    <tr>\n",
       "      <th>Black Panther</th>\n",
       "      <td>0.000000</td>\n",
       "    </tr>\n",
       "    <tr>\n",
       "      <th>Black Widow</th>\n",
       "      <td>0.004224</td>\n",
       "    </tr>\n",
       "    <tr>\n",
       "      <th>Captain America</th>\n",
       "      <td>0.004224</td>\n",
       "    </tr>\n",
       "    <tr>\n",
       "      <th>Dr. Strange</th>\n",
       "      <td>0.001300</td>\n",
       "    </tr>\n",
       "    <tr>\n",
       "      <th>Drax</th>\n",
       "      <td>0.000000</td>\n",
       "    </tr>\n",
       "    <tr>\n",
       "      <th>Falcon</th>\n",
       "      <td>0.004224</td>\n",
       "    </tr>\n",
       "    <tr>\n",
       "      <th>Gamora</th>\n",
       "      <td>0.000000</td>\n",
       "    </tr>\n",
       "    <tr>\n",
       "      <th>Groot</th>\n",
       "      <td>0.000000</td>\n",
       "    </tr>\n",
       "    <tr>\n",
       "      <th>Hawkeye</th>\n",
       "      <td>0.004224</td>\n",
       "    </tr>\n",
       "    <tr>\n",
       "      <th>Hulk</th>\n",
       "      <td>0.015595</td>\n",
       "    </tr>\n",
       "    <tr>\n",
       "      <th>Iron Man</th>\n",
       "      <td>0.004224</td>\n",
       "    </tr>\n",
       "    <tr>\n",
       "      <th>Mantis</th>\n",
       "      <td>0.000000</td>\n",
       "    </tr>\n",
       "    <tr>\n",
       "      <th>Rocket</th>\n",
       "      <td>0.000000</td>\n",
       "    </tr>\n",
       "    <tr>\n",
       "      <th>Scarlet Witch</th>\n",
       "      <td>0.004224</td>\n",
       "    </tr>\n",
       "    <tr>\n",
       "      <th>Star Lord</th>\n",
       "      <td>0.000000</td>\n",
       "    </tr>\n",
       "    <tr>\n",
       "      <th>Thor</th>\n",
       "      <td>0.015595</td>\n",
       "    </tr>\n",
       "    <tr>\n",
       "      <th>Vision</th>\n",
       "      <td>0.004224</td>\n",
       "    </tr>\n",
       "    <tr>\n",
       "      <th>War Machine</th>\n",
       "      <td>0.004224</td>\n",
       "    </tr>\n",
       "    <tr>\n",
       "      <th>Winter Soldier</th>\n",
       "      <td>0.027290</td>\n",
       "    </tr>\n",
       "  </tbody>\n",
       "</table>\n",
       "</div>"
      ],
      "text/plain": [
       "                        0\n",
       "Ant Man          0.000000\n",
       "Black Panther    0.000000\n",
       "Black Widow      0.004224\n",
       "Captain America  0.004224\n",
       "Dr. Strange      0.001300\n",
       "Drax             0.000000\n",
       "Falcon           0.004224\n",
       "Gamora           0.000000\n",
       "Groot            0.000000\n",
       "Hawkeye          0.004224\n",
       "Hulk             0.015595\n",
       "Iron Man         0.004224\n",
       "Mantis           0.000000\n",
       "Rocket           0.000000\n",
       "Scarlet Witch    0.004224\n",
       "Star Lord        0.000000\n",
       "Thor             0.015595\n",
       "Vision           0.004224\n",
       "War Machine      0.004224\n",
       "Winter Soldier   0.027290"
      ]
     },
     "execution_count": 30,
     "metadata": {},
     "output_type": "execute_result"
    }
   ],
   "source": [
    "between = nx.betweenness_centrality(G) #betweenness detects the amount of influence a node has over the flow of information in a graph\n",
    "                                       #finds nodes that serve as a bridge from one part of a graph to another\n",
    "                                       #calculates unweighted shortest paths between all pairs of nodes in a graph\n",
    "pd.DataFrame.from_dict(between, orient='index')"
   ]
  },
  {
   "cell_type": "markdown",
   "id": "20c609a1",
   "metadata": {},
   "source": [
    "From the above centrality measures and degrees, it's interesting to note that all the primary Avengers characters have the same amount of closeness, betweenness and degrees whereas the guardians of the galaxy characters are similar amongst themselves. There is no one influencer that stands out distinctly."
   ]
  },
  {
   "cell_type": "code",
   "execution_count": 31,
   "id": "8dded358",
   "metadata": {},
   "outputs": [
    {
     "name": "stdout",
     "output_type": "stream",
     "text": [
      "2\n"
     ]
    }
   ],
   "source": [
    "from networkx.algorithms.community.modularity_max import greedy_modularity_communities #runs the Clauset-Newman-Moore greedy modularity maximization.\n",
    "\n",
    "#this begins with each node in its own community and joins the pair of communities that most increases modularity until no such pair exists.\n",
    "\n",
    "mcu = list(greedy_modularity_communities(G)) #putting the result into a list to see how many communities can be detected\n",
    "\n",
    "print(len(mcu)) #printing the number of communities"
   ]
  },
  {
   "cell_type": "markdown",
   "id": "05786dde",
   "metadata": {},
   "source": [
    "As seen from the initial rough graph, 2 distinct communities were identified. There seems to be no connection between the 2 communities. We can see the 2 communities printed out below."
   ]
  },
  {
   "cell_type": "code",
   "execution_count": 32,
   "id": "a5fdf61b",
   "metadata": {},
   "outputs": [
    {
     "name": "stdout",
     "output_type": "stream",
     "text": [
      "['Ant Man', 'Black Panther', 'Black Widow', 'Captain America', 'Dr. Strange', 'Falcon', 'Hawkeye', 'Hulk', 'Iron Man', 'Scarlet Witch', 'Thor', 'Vision', 'War Machine', 'Winter Soldier']\n",
      "['Drax', 'Gamora', 'Groot', 'Mantis', 'Rocket', 'Star Lord']\n"
     ]
    }
   ],
   "source": [
    "#selecting and printing each cluster\n",
    "\n",
    "avengers = sorted(mcu[0]) \n",
    "guardians_of_the_galaxy = sorted(mcu[1])\n",
    "\n",
    "\n",
    "print(avengers)\n",
    "print(guardians_of_the_galaxy)"
   ]
  },
  {
   "cell_type": "markdown",
   "id": "9fd04f2e",
   "metadata": {},
   "source": [
    "Finally, I am going to implement design changes to the graph by assigning unique colors for the 2 communities, increasing edge thickness, changing node size and increasing the distance between the nodes to get a clearer graph that's not entangled."
   ]
  },
  {
   "cell_type": "code",
   "execution_count": 76,
   "id": "c148bfda",
   "metadata": {},
   "outputs": [
    {
     "data": {
      "image/png": "[encoded data removed]",
      "text/plain": [
       "<Figure size 432x288 with 1 Axes>"
      ]
     },
     "metadata": {},
     "output_type": "display_data"
    }
   ],
   "source": [
    "np.random.seed(123)\n",
    "\n",
    "#obtaining the position of the nodes \n",
    "\n",
    "pos = nx.spring_layout(G, k=0.99, iterations=30) #k controls the distance between the nodes and varies between 0 and 1\n",
    "                                                 #iterations is the no. of times simulated annealing is run\n",
    "             \n",
    "#manipulating the thickness of the edges\n",
    "\n",
    "eWeight = nx.get_edge_attributes(G, 'weight') #obtaining the weight of each edge\n",
    "\n",
    "#degrees of each community\n",
    "\n",
    "avengers_degree = {mcu: dict(degree)[mcu] for mcu in avengers}\n",
    "guardians_of_the_galaxy_degree = {mcu: dict(degree)[mcu] for mcu in guardians_of_the_galaxy}\n",
    "\n",
    "#print out the nodes with color and size\n",
    "\n",
    "nx.draw_networkx_nodes(G, pos = pos, nodelist=avengers, node_color='purple', \n",
    "                       node_size = [v * 5 for v in avengers_degree.values()], label = True)\n",
    "\n",
    "nx.draw_networkx_nodes(G, pos = pos, nodelist=guardians_of_the_galaxy, node_color='gold', \n",
    "                       node_size = [v * 10 for v in guardians_of_the_galaxy_degree.values()], label = True)\n",
    "\n",
    "#print out the edges with proper width\n",
    "\n",
    "nx.draw_networkx_edges(G,pos, width = [3**e/50 for e in eWeight.values()])\n",
    "\n",
    "#making sure the label is printed\n",
    "\n",
    "nx.draw_networkx_labels(G, pos=pos)\n",
    "\n",
    "#show the plot so it supress the other networkx outputs\n",
    "\n",
    "plt.show()"
   ]
  },
  {
   "cell_type": "markdown",
   "id": "cd8c01b1",
   "metadata": {},
   "source": [
    "From the above network visualization, it's clear that the strongest links are between:\n",
    "\n",
    "*Iron Man* and *War Machine*, *Captain America* and *Black Widow*, *Falcon* and the *Winter Soldier* and finally, *Scarlet Witch* and *Vision*. \n",
    "\n",
    "The rest of the avengers are roughly equally connected. Similarly, all the Guardians of the Galaxy characters are equally well connected. There is no apparent link between the Avengers and Guardians of the Galaxy.\n",
    "\n",
    "While this network is consistent with the canon (defined as \"material accepted as officially part of the story), it's crucial to not draw too many inferences from this simple network because many characters were left out for the sake of having clean data. Also, including data from *Infinity War* and *End Game* connect the characters further (and even the 2 clusters above) but also create more messy entanglements.\n",
    "\n",
    "This visualization can be used to explain the complicated Marvel Cinematic Universe to new fans, serve as a guide to develop fan fiction or even as a reference for future official MCU writers. "
   ]
  }
 ],
 "metadata": {
  "kernelspec": {
   "display_name": "Python 3",
   "language": "python",
   "name": "python3"
  },
  "language_info": {
   "codemirror_mode": {
    "name": "ipython",
    "version": 3
   },
   "file_extension": ".py",
   "mimetype": "text/x-python",
   "name": "python",
   "nbconvert_exporter": "python",
   "pygments_lexer": "ipython3",
   "version": "3.6.13"
  }
 },
 "nbformat": 4,
 "nbformat_minor": 5
}
