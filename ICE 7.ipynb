{
 "cells": [
  {
   "cell_type": "markdown",
   "id": "538ec7ec",
   "metadata": {},
   "source": [
    "# Individual Coding Exercise (ICE) 7\n",
    "\n",
    "In this ICE 7, diagnostic metrics are covered. 1) identify the correct model diagnostic metric(s) for performance 2) implement a model diagnostic metric for a model that my team had built for Analysis Challenge Assignment 2."
   ]
  },
  {
   "cell_type": "code",
   "execution_count": 1,
   "id": "ede52195",
   "metadata": {},
   "outputs": [],
   "source": [
    "#importing necessary packages\n",
    "\n",
    "import pandas as pd\n",
    "from sklearn.tree import DecisionTreeClassifier\n",
    "from sklearn.metrics import accuracy_score\n",
    "from sklearn.metrics import confusion_matrix\n",
    "from sklearn.metrics import precision_score\n",
    "from sklearn.metrics import recall_score\n",
    "from sklearn.metrics import f1_score\n",
    "from sklearn.metrics import roc_curve\n",
    "from sklearn.metrics import roc_auc_score\n",
    "from matplotlib import pyplot"
   ]
  },
  {
   "cell_type": "code",
   "execution_count": 2,
   "id": "814f5c17",
   "metadata": {},
   "outputs": [],
   "source": [
    "#Uploading the validation and training datasets\n",
    "\n",
    "val = pd.read_csv(\"aca2_dataset_validation.csv\")\n",
    "train = pd.read_csv(\"aca2_dataset_training.csv\")"
   ]
  },
  {
   "cell_type": "code",
   "execution_count": 3,
   "id": "79e7925f",
   "metadata": {},
   "outputs": [],
   "source": [
    "#Data Cleaning by turning categorical variables into dummy variables \n",
    "\n",
    "df_val = pd.get_dummies(val, columns = ['SCHOOL', 'GRADE', 'Activity', 'ONTASK'])\n",
    "df_train = pd.get_dummies(train, columns = ['SCHOOL', 'GRADE', 'Activity', 'ONTASK'])"
   ]
  },
  {
   "cell_type": "code",
   "execution_count": 4,
   "id": "67bfbecd",
   "metadata": {},
   "outputs": [],
   "source": [
    "#Turning the separate ONTASK columns into one\n",
    "\n",
    "df_val = df_val.rename(columns = {'ONTASK_Y': 'ONTASK'})\n",
    "df_train = df_train.rename(columns = {'ONTASK_Y': 'ONTASK'})"
   ]
  },
  {
   "cell_type": "code",
   "execution_count": 5,
   "id": "297c1d43",
   "metadata": {},
   "outputs": [],
   "source": [
    "#All data greater than the average is coded as 1 and others are 0\n",
    "\n",
    "df_val['NUMACTIVITIES_HIGH'] = (df_val['NumACTIVITIES'] > df_val['NumACTIVITIES'].mean()).astype(int)\n",
    "df_train['NUMACTIVITIES_HIGH'] = (df_train['NumACTIVITIES'] > df_train['NumACTIVITIES'].mean()).astype(int)\n",
    "df_val['NUMFORMATS_HIGH'] = (df_val['NumFORMATS'] > df_val['NumFORMATS'].mean()).astype(int)\n",
    "df_train['NUMFORMATS_HIGH'] = (df_train['NumFORMATS'] > df_train['NumFORMATS'].mean()).astype(int)\n",
    "df_val['OBSV/ACT_HIGH'] = (df_val['Obsv/act'] > df_val['Obsv/act'].mean()).astype(int)\n",
    "df_train['OBSV/ACT_HIGH'] = (df_train['Obsv/act'] > df_train['Obsv/act'].mean()).astype(int)"
   ]
  },
  {
   "cell_type": "code",
   "execution_count": 6,
   "id": "01faf34a",
   "metadata": {},
   "outputs": [],
   "source": [
    "df_val = df_val.drop(['UNIQUEID',\n",
    "                    'Class',\n",
    "                    'STUDENTID',\n",
    "                    'ONTASK_N',\n",
    "                    'totalobs-forsession',\n",
    "                    'NumACTIVITIES',\n",
    "                    'TRANSITIONS',\n",
    "                    'NumFORMATS',\n",
    "                    'FORMATchanges',\n",
    "                    'Obsv/act',\n",
    "                    'Transitions/Durations',\n",
    "                    'Total Time'], axis=1)\n",
    "df_train = df_train.drop(['UNIQUEID',\n",
    "                    'Class',\n",
    "                    'STUDENTID',\n",
    "                    'CODER',\n",
    "                    'OBSNUM',\n",
    "                    'ONTASK_N',\n",
    "                    'totalobs-forsession',\n",
    "                    'NumACTIVITIES',\n",
    "                    'TRANSITIONS',\n",
    "                    'NumFORMATS',\n",
    "                    'FORMATchanges',\n",
    "                    'Obsv/act',\n",
    "                    'Transitions/Durations',\n",
    "                    'Total Time'], axis=1)"
   ]
  },
  {
   "cell_type": "code",
   "execution_count": 7,
   "id": "21e63732",
   "metadata": {},
   "outputs": [],
   "source": [
    "#Creating a function to create a decision tree model\n",
    "\n",
    "y_tr = df_train['ONTASK']\n",
    "def new_dec_tree (x_cols):\n",
    "    Xs_tr = df_train[x_cols]\n",
    "    dec_tree_model = DecisionTreeClassifier()\n",
    "    dec_tree_model.fit(Xs_tr, y_tr)\n",
    "    return dec_tree_model"
   ]
  },
  {
   "cell_type": "code",
   "execution_count": 8,
   "id": "99cd6439",
   "metadata": {},
   "outputs": [],
   "source": [
    "#Function to test logistic regression model\n",
    "\n",
    "y_va = df_val['ONTASK']\n",
    "def test_dec_tree(x_cols, model):\n",
    "    Xs_va = df_va[x_cols]\n",
    "    pred = model.predict(Xs_va)\n",
    "    print(confusion_matrix(y_va, pred))\n",
    "    print(f\"Accuracy Score: {accuracy_score(y_va, pred)}\")"
   ]
  },
  {
   "cell_type": "code",
   "execution_count": 9,
   "id": "e8da59d2",
   "metadata": {},
   "outputs": [],
   "source": [
    "def dec_tree_tester (x_cols):\n",
    "    new_model = new_dec_tree(x_cols)\n",
    "    test_dec_tree(x_cols, new_model)"
   ]
  },
  {
   "cell_type": "code",
   "execution_count": 10,
   "id": "01315e7d",
   "metadata": {},
   "outputs": [
    {
     "ename": "SyntaxError",
     "evalue": "invalid syntax (<ipython-input-10-30c1bb9ffd04>, line 22)",
     "output_type": "error",
     "traceback": [
      "\u001b[1;36m  File \u001b[1;32m\"<ipython-input-10-30c1bb9ffd04>\"\u001b[1;36m, line \u001b[1;32m22\u001b[0m\n\u001b[1;33m    [[174 1675]\u001b[0m\n\u001b[1;37m             ^\u001b[0m\n\u001b[1;31mSyntaxError\u001b[0m\u001b[1;31m:\u001b[0m invalid syntax\n"
     ]
    }
   ],
   "source": [
    "#finding model with highest accuracy score\n",
    "\n",
    "x_cols = [\n",
    "'school_a',\n",
    "'school_b',\n",
    "'school_c',\n",
    "'school_d',\n",
    "'school_e',\n",
    "'grade_0',\n",
    "'grade_1',\n",
    "'grade_2',\n",
    "'grade_3',\n",
    "'grade_4',\n",
    "'activity_dancing',\n",
    "'activity_smallgroup',\n",
    "'activity_testing',\n",
    "'activity_wholedesks',\n",
    "'numactivities_high',\n",
    "'obsv/act_high'\n",
    "]\n",
    "dec_tree_tester(x_cols)\n",
    "[[174 1675]\n",
    " [132 3566]]"
   ]
  },
  {
   "cell_type": "code",
   "execution_count": null,
   "id": "e6fa3d68",
   "metadata": {},
   "outputs": [],
   "source": [
    "#function to create a decision tree model\n",
    "\n",
    "def new_dec_tree (x_cols):\n",
    "    Xs_tr = df_tr[x_cols]\n",
    "    dec_tree_model = DecisionTreeClassifier()\n",
    "    dec_tree_model.fit(Xs_tr, y_tr)\n",
    "    return dec_tree_model"
   ]
  },
  {
   "cell_type": "code",
   "execution_count": null,
   "id": "803b37ce",
   "metadata": {},
   "outputs": [],
   "source": [
    "#function to test logistic regression model\n",
    "\n",
    "def test_dec_tree_2(x_cols, model):\n",
    "    Xs_va = df_va[x_cols]\n",
    "    pred = model.predict(Xs_va)\n",
    "    print(confusion_matrix(y_va, pred))\n",
    "    print(f\"Accuracy Score: {accuracy_score(y_va, pred)}\")\n",
    "    print(f\"Precision Score: {precision_score(y_va, pred)}\")\n",
    "    print(f\"Recall Score: {recall_score(y_va, pred)}\")\n",
    "    print(f\"F1 Score: {f1_score(y_va, pred)}\")"
   ]
  },
  {
   "cell_type": "code",
   "execution_count": null,
   "id": "c1e46805",
   "metadata": {},
   "outputs": [],
   "source": [
    "def dec_tree_tester_2 (x_cols):\n",
    "    new_model = new_dec_tree(x_cols)\n",
    "    test_dec_tree_2(x_cols, new_model)\n",
    "\n",
    "dec_tree_tester_2(x_cols)\n",
    "[[174 1675]\n",
    " [132 3566]]"
   ]
  },
  {
   "cell_type": "code",
   "execution_count": 14,
   "id": "1780f305",
   "metadata": {},
   "outputs": [],
   "source": [
    "#create function to calculate the AUC score and the ROC plot\n",
    "\n",
    "def new_dec_tree (x_cols):\n",
    "    Xs_tr = df_tr[x_cols]\n",
    "    dec_tree_model = DecisionTreeClassifier()\n",
    "    dec_tree_model.fit(Xs_tr, y_tr)\n",
    "    return dec_tree_model\n",
    "\n",
    "def auc_roc (x_cols, model):\n",
    "    Xs_va = df_va[x_cols]\n",
    "    pred_proba = model.predict_proba(Xs_va)\n",
    "    pred_proba_positive = pred_proba[:, 1]\n",
    "    \n",
    "    #Find AUC score\n",
    "    auc = roc_auc_score(y_va, pred_proba_positive)\n",
    "    print(f'AUC Score: {auc}')\n",
    "    \n",
    "    #Create ROC curve\n",
    "    fpr, npr, _ = roc_curve(y_va, pred_proba_positive)\n",
    "    pyplot.plot(fpr, npr)\n",
    "    pyplot.xlabel('False Positive Rate')\n",
    "    pyplot.ylabel('True Positive Rate')\n",
    "    pyplot.show()\n",
    "    \n",
    "def auc_roc_generator (x_cols):\n",
    "    new_model = new_dec_tree(x_cols)\n",
    "    auc_roc(x_cols, new_model)"
   ]
  }
 ],
 "metadata": {
  "kernelspec": {
   "display_name": "Python 3",
   "language": "python",
   "name": "python3"
  },
  "language_info": {
   "codemirror_mode": {
    "name": "ipython",
    "version": 3
   },
   "file_extension": ".py",
   "mimetype": "text/x-python",
   "name": "python",
   "nbconvert_exporter": "python",
   "pygments_lexer": "ipython3",
   "version": "3.6.13"
  }
 },
 "nbformat": 4,
 "nbformat_minor": 5
}
